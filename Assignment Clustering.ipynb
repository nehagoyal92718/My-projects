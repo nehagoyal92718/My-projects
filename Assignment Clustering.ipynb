{
 "cells": [
  {
   "cell_type": "markdown",
   "metadata": {},
   "source": [
    "### Problem Statement\n",
    "HELP International is an international humanitarian NGO that is committed to fighting poverty and providing the people of backward countries with basic amenities and relief during the time of disasters and natural calamities. It runs a lot of operational projects from time to time along with advocacy drives to raise awareness as well as for funding purposes.\n",
    "\n",
    " \n",
    "\n",
    "After the recent funding programmes, they have been able to raise around $ 10 million. Now the CEO of the NGO needs to decide how to use this money strategically and effectively. The significant issues that come while making this decision are mostly related to choosing the countries that are in the direst need of aid. \n",
    "\n",
    " \n",
    "\n",
    "And this is where you come in as a data analyst. Your job is to categorise the countries using some socio-economic and health factors that determine the overall development of the country. Then you need to suggest the countries which the CEO needs to focus on the most.  The datasets containing those socio-economic factors and the corresponding data dictionary are provided below."
   ]
  },
  {
   "cell_type": "markdown",
   "metadata": {},
   "source": [
    "#### Read and Visualize the data"
   ]
  },
  {
   "cell_type": "code",
   "execution_count": 1,
   "metadata": {},
   "outputs": [],
   "source": [
    "#Importing useful libraries\n",
    "import warnings\n",
    "warnings.filterwarnings('ignore')\n",
    "\n",
    "import numpy as np\n",
    "import pandas as pd\n",
    "import matplotlib.pyplot as plt\n",
    "import seaborn as sns\n",
    "\n",
    "%matplotlib inline\n",
    "\n",
    "from sklearn.preprocessing import scale\n",
    "import sklearn\n",
    "from sklearn.preprocessing import StandardScaler\n",
    "from sklearn.cluster import KMeans\n",
    "from sklearn.metrics import silhouette_score\n",
    "\n",
    "from scipy.cluster.hierarchy import linkage\n",
    "from scipy.cluster.hierarchy import dendrogram\n",
    "from scipy.cluster.hierarchy import cut_tree"
   ]
  },
  {
   "cell_type": "code",
   "execution_count": 2,
   "metadata": {},
   "outputs": [
    {
     "data": {
      "text/html": [
       "<div>\n",
       "<style scoped>\n",
       "    .dataframe tbody tr th:only-of-type {\n",
       "        vertical-align: middle;\n",
       "    }\n",
       "\n",
       "    .dataframe tbody tr th {\n",
       "        vertical-align: top;\n",
       "    }\n",
       "\n",
       "    .dataframe thead th {\n",
       "        text-align: right;\n",
       "    }\n",
       "</style>\n",
       "<table border=\"1\" class=\"dataframe\">\n",
       "  <thead>\n",
       "    <tr style=\"text-align: right;\">\n",
       "      <th></th>\n",
       "      <th>country</th>\n",
       "      <th>child_mort</th>\n",
       "      <th>exports</th>\n",
       "      <th>health</th>\n",
       "      <th>imports</th>\n",
       "      <th>income</th>\n",
       "      <th>inflation</th>\n",
       "      <th>life_expec</th>\n",
       "      <th>total_fer</th>\n",
       "      <th>gdpp</th>\n",
       "    </tr>\n",
       "  </thead>\n",
       "  <tbody>\n",
       "    <tr>\n",
       "      <th>0</th>\n",
       "      <td>Afghanistan</td>\n",
       "      <td>90.2</td>\n",
       "      <td>10.0</td>\n",
       "      <td>7.58</td>\n",
       "      <td>44.9</td>\n",
       "      <td>1610</td>\n",
       "      <td>9.44</td>\n",
       "      <td>56.2</td>\n",
       "      <td>5.82</td>\n",
       "      <td>553</td>\n",
       "    </tr>\n",
       "    <tr>\n",
       "      <th>1</th>\n",
       "      <td>Albania</td>\n",
       "      <td>16.6</td>\n",
       "      <td>28.0</td>\n",
       "      <td>6.55</td>\n",
       "      <td>48.6</td>\n",
       "      <td>9930</td>\n",
       "      <td>4.49</td>\n",
       "      <td>76.3</td>\n",
       "      <td>1.65</td>\n",
       "      <td>4090</td>\n",
       "    </tr>\n",
       "    <tr>\n",
       "      <th>2</th>\n",
       "      <td>Algeria</td>\n",
       "      <td>27.3</td>\n",
       "      <td>38.4</td>\n",
       "      <td>4.17</td>\n",
       "      <td>31.4</td>\n",
       "      <td>12900</td>\n",
       "      <td>16.10</td>\n",
       "      <td>76.5</td>\n",
       "      <td>2.89</td>\n",
       "      <td>4460</td>\n",
       "    </tr>\n",
       "    <tr>\n",
       "      <th>3</th>\n",
       "      <td>Angola</td>\n",
       "      <td>119.0</td>\n",
       "      <td>62.3</td>\n",
       "      <td>2.85</td>\n",
       "      <td>42.9</td>\n",
       "      <td>5900</td>\n",
       "      <td>22.40</td>\n",
       "      <td>60.1</td>\n",
       "      <td>6.16</td>\n",
       "      <td>3530</td>\n",
       "    </tr>\n",
       "    <tr>\n",
       "      <th>4</th>\n",
       "      <td>Antigua and Barbuda</td>\n",
       "      <td>10.3</td>\n",
       "      <td>45.5</td>\n",
       "      <td>6.03</td>\n",
       "      <td>58.9</td>\n",
       "      <td>19100</td>\n",
       "      <td>1.44</td>\n",
       "      <td>76.8</td>\n",
       "      <td>2.13</td>\n",
       "      <td>12200</td>\n",
       "    </tr>\n",
       "  </tbody>\n",
       "</table>\n",
       "</div>"
      ],
      "text/plain": [
       "               country  child_mort  exports  health  imports  income  \\\n",
       "0          Afghanistan        90.2     10.0    7.58     44.9    1610   \n",
       "1              Albania        16.6     28.0    6.55     48.6    9930   \n",
       "2              Algeria        27.3     38.4    4.17     31.4   12900   \n",
       "3               Angola       119.0     62.3    2.85     42.9    5900   \n",
       "4  Antigua and Barbuda        10.3     45.5    6.03     58.9   19100   \n",
       "\n",
       "   inflation  life_expec  total_fer   gdpp  \n",
       "0       9.44        56.2       5.82    553  \n",
       "1       4.49        76.3       1.65   4090  \n",
       "2      16.10        76.5       2.89   4460  \n",
       "3      22.40        60.1       6.16   3530  \n",
       "4       1.44        76.8       2.13  12200  "
      ]
     },
     "execution_count": 2,
     "metadata": {},
     "output_type": "execute_result"
    }
   ],
   "source": [
    "# Reading the dataset\n",
    "df = pd.read_csv(\"Country-data.csv\")\n",
    "df.head()"
   ]
  },
  {
   "cell_type": "code",
   "execution_count": 3,
   "metadata": {},
   "outputs": [
    {
     "data": {
      "text/plain": [
       "(167, 10)"
      ]
     },
     "execution_count": 3,
     "metadata": {},
     "output_type": "execute_result"
    }
   ],
   "source": [
    "df.shape"
   ]
  },
  {
   "cell_type": "code",
   "execution_count": 4,
   "metadata": {},
   "outputs": [
    {
     "name": "stdout",
     "output_type": "stream",
     "text": [
      "<class 'pandas.core.frame.DataFrame'>\n",
      "RangeIndex: 167 entries, 0 to 166\n",
      "Data columns (total 10 columns):\n",
      " #   Column      Non-Null Count  Dtype  \n",
      "---  ------      --------------  -----  \n",
      " 0   country     167 non-null    object \n",
      " 1   child_mort  167 non-null    float64\n",
      " 2   exports     167 non-null    float64\n",
      " 3   health      167 non-null    float64\n",
      " 4   imports     167 non-null    float64\n",
      " 5   income      167 non-null    int64  \n",
      " 6   inflation   167 non-null    float64\n",
      " 7   life_expec  167 non-null    float64\n",
      " 8   total_fer   167 non-null    float64\n",
      " 9   gdpp        167 non-null    int64  \n",
      "dtypes: float64(7), int64(2), object(1)\n",
      "memory usage: 13.2+ KB\n"
     ]
    }
   ],
   "source": [
    "df.info()"
   ]
  },
  {
   "cell_type": "code",
   "execution_count": 5,
   "metadata": {},
   "outputs": [
    {
     "data": {
      "text/plain": [
       "country       0\n",
       "child_mort    0\n",
       "exports       0\n",
       "health        0\n",
       "imports       0\n",
       "income        0\n",
       "inflation     0\n",
       "life_expec    0\n",
       "total_fer     0\n",
       "gdpp          0\n",
       "dtype: int64"
      ]
     },
     "execution_count": 5,
     "metadata": {},
     "output_type": "execute_result"
    }
   ],
   "source": [
    "df.isnull().sum()"
   ]
  },
  {
   "cell_type": "markdown",
   "metadata": {},
   "source": [
    "Insights:\n",
    "Data set has no null-values"
   ]
  },
  {
   "cell_type": "code",
   "execution_count": 6,
   "metadata": {},
   "outputs": [
    {
     "data": {
      "text/html": [
       "<div>\n",
       "<style scoped>\n",
       "    .dataframe tbody tr th:only-of-type {\n",
       "        vertical-align: middle;\n",
       "    }\n",
       "\n",
       "    .dataframe tbody tr th {\n",
       "        vertical-align: top;\n",
       "    }\n",
       "\n",
       "    .dataframe thead th {\n",
       "        text-align: right;\n",
       "    }\n",
       "</style>\n",
       "<table border=\"1\" class=\"dataframe\">\n",
       "  <thead>\n",
       "    <tr style=\"text-align: right;\">\n",
       "      <th></th>\n",
       "      <th>country</th>\n",
       "      <th>child_mort</th>\n",
       "      <th>exports</th>\n",
       "      <th>health</th>\n",
       "      <th>imports</th>\n",
       "      <th>income</th>\n",
       "      <th>inflation</th>\n",
       "      <th>life_expec</th>\n",
       "      <th>total_fer</th>\n",
       "      <th>gdpp</th>\n",
       "    </tr>\n",
       "  </thead>\n",
       "  <tbody>\n",
       "    <tr>\n",
       "      <th>count</th>\n",
       "      <td>167</td>\n",
       "      <td>167.000000</td>\n",
       "      <td>167.000000</td>\n",
       "      <td>167.000000</td>\n",
       "      <td>167.000000</td>\n",
       "      <td>167.000000</td>\n",
       "      <td>167.000000</td>\n",
       "      <td>167.000000</td>\n",
       "      <td>167.000000</td>\n",
       "      <td>167.000000</td>\n",
       "    </tr>\n",
       "    <tr>\n",
       "      <th>unique</th>\n",
       "      <td>167</td>\n",
       "      <td>NaN</td>\n",
       "      <td>NaN</td>\n",
       "      <td>NaN</td>\n",
       "      <td>NaN</td>\n",
       "      <td>NaN</td>\n",
       "      <td>NaN</td>\n",
       "      <td>NaN</td>\n",
       "      <td>NaN</td>\n",
       "      <td>NaN</td>\n",
       "    </tr>\n",
       "    <tr>\n",
       "      <th>top</th>\n",
       "      <td>France</td>\n",
       "      <td>NaN</td>\n",
       "      <td>NaN</td>\n",
       "      <td>NaN</td>\n",
       "      <td>NaN</td>\n",
       "      <td>NaN</td>\n",
       "      <td>NaN</td>\n",
       "      <td>NaN</td>\n",
       "      <td>NaN</td>\n",
       "      <td>NaN</td>\n",
       "    </tr>\n",
       "    <tr>\n",
       "      <th>freq</th>\n",
       "      <td>1</td>\n",
       "      <td>NaN</td>\n",
       "      <td>NaN</td>\n",
       "      <td>NaN</td>\n",
       "      <td>NaN</td>\n",
       "      <td>NaN</td>\n",
       "      <td>NaN</td>\n",
       "      <td>NaN</td>\n",
       "      <td>NaN</td>\n",
       "      <td>NaN</td>\n",
       "    </tr>\n",
       "    <tr>\n",
       "      <th>mean</th>\n",
       "      <td>NaN</td>\n",
       "      <td>38.270060</td>\n",
       "      <td>41.108976</td>\n",
       "      <td>6.815689</td>\n",
       "      <td>46.890215</td>\n",
       "      <td>17144.688623</td>\n",
       "      <td>7.781832</td>\n",
       "      <td>70.555689</td>\n",
       "      <td>2.947964</td>\n",
       "      <td>12964.155689</td>\n",
       "    </tr>\n",
       "    <tr>\n",
       "      <th>std</th>\n",
       "      <td>NaN</td>\n",
       "      <td>40.328931</td>\n",
       "      <td>27.412010</td>\n",
       "      <td>2.746837</td>\n",
       "      <td>24.209589</td>\n",
       "      <td>19278.067698</td>\n",
       "      <td>10.570704</td>\n",
       "      <td>8.893172</td>\n",
       "      <td>1.513848</td>\n",
       "      <td>18328.704809</td>\n",
       "    </tr>\n",
       "    <tr>\n",
       "      <th>min</th>\n",
       "      <td>NaN</td>\n",
       "      <td>2.600000</td>\n",
       "      <td>0.109000</td>\n",
       "      <td>1.810000</td>\n",
       "      <td>0.065900</td>\n",
       "      <td>609.000000</td>\n",
       "      <td>-4.210000</td>\n",
       "      <td>32.100000</td>\n",
       "      <td>1.150000</td>\n",
       "      <td>231.000000</td>\n",
       "    </tr>\n",
       "    <tr>\n",
       "      <th>25%</th>\n",
       "      <td>NaN</td>\n",
       "      <td>8.250000</td>\n",
       "      <td>23.800000</td>\n",
       "      <td>4.920000</td>\n",
       "      <td>30.200000</td>\n",
       "      <td>3355.000000</td>\n",
       "      <td>1.810000</td>\n",
       "      <td>65.300000</td>\n",
       "      <td>1.795000</td>\n",
       "      <td>1330.000000</td>\n",
       "    </tr>\n",
       "    <tr>\n",
       "      <th>50%</th>\n",
       "      <td>NaN</td>\n",
       "      <td>19.300000</td>\n",
       "      <td>35.000000</td>\n",
       "      <td>6.320000</td>\n",
       "      <td>43.300000</td>\n",
       "      <td>9960.000000</td>\n",
       "      <td>5.390000</td>\n",
       "      <td>73.100000</td>\n",
       "      <td>2.410000</td>\n",
       "      <td>4660.000000</td>\n",
       "    </tr>\n",
       "    <tr>\n",
       "      <th>75%</th>\n",
       "      <td>NaN</td>\n",
       "      <td>62.100000</td>\n",
       "      <td>51.350000</td>\n",
       "      <td>8.600000</td>\n",
       "      <td>58.750000</td>\n",
       "      <td>22800.000000</td>\n",
       "      <td>10.750000</td>\n",
       "      <td>76.800000</td>\n",
       "      <td>3.880000</td>\n",
       "      <td>14050.000000</td>\n",
       "    </tr>\n",
       "    <tr>\n",
       "      <th>max</th>\n",
       "      <td>NaN</td>\n",
       "      <td>208.000000</td>\n",
       "      <td>200.000000</td>\n",
       "      <td>17.900000</td>\n",
       "      <td>174.000000</td>\n",
       "      <td>125000.000000</td>\n",
       "      <td>104.000000</td>\n",
       "      <td>82.800000</td>\n",
       "      <td>7.490000</td>\n",
       "      <td>105000.000000</td>\n",
       "    </tr>\n",
       "  </tbody>\n",
       "</table>\n",
       "</div>"
      ],
      "text/plain": [
       "       country  child_mort     exports      health     imports         income  \\\n",
       "count      167  167.000000  167.000000  167.000000  167.000000     167.000000   \n",
       "unique     167         NaN         NaN         NaN         NaN            NaN   \n",
       "top     France         NaN         NaN         NaN         NaN            NaN   \n",
       "freq         1         NaN         NaN         NaN         NaN            NaN   \n",
       "mean       NaN   38.270060   41.108976    6.815689   46.890215   17144.688623   \n",
       "std        NaN   40.328931   27.412010    2.746837   24.209589   19278.067698   \n",
       "min        NaN    2.600000    0.109000    1.810000    0.065900     609.000000   \n",
       "25%        NaN    8.250000   23.800000    4.920000   30.200000    3355.000000   \n",
       "50%        NaN   19.300000   35.000000    6.320000   43.300000    9960.000000   \n",
       "75%        NaN   62.100000   51.350000    8.600000   58.750000   22800.000000   \n",
       "max        NaN  208.000000  200.000000   17.900000  174.000000  125000.000000   \n",
       "\n",
       "         inflation  life_expec   total_fer           gdpp  \n",
       "count   167.000000  167.000000  167.000000     167.000000  \n",
       "unique         NaN         NaN         NaN            NaN  \n",
       "top            NaN         NaN         NaN            NaN  \n",
       "freq           NaN         NaN         NaN            NaN  \n",
       "mean      7.781832   70.555689    2.947964   12964.155689  \n",
       "std      10.570704    8.893172    1.513848   18328.704809  \n",
       "min      -4.210000   32.100000    1.150000     231.000000  \n",
       "25%       1.810000   65.300000    1.795000    1330.000000  \n",
       "50%       5.390000   73.100000    2.410000    4660.000000  \n",
       "75%      10.750000   76.800000    3.880000   14050.000000  \n",
       "max     104.000000   82.800000    7.490000  105000.000000  "
      ]
     },
     "execution_count": 6,
     "metadata": {},
     "output_type": "execute_result"
    }
   ],
   "source": [
    "df.describe(include = 'all')"
   ]
  },
  {
   "cell_type": "code",
   "execution_count": 7,
   "metadata": {},
   "outputs": [],
   "source": [
    "#exports, imports, and health columns are percentage of gdpp, converting it into absolute values\n",
    "df['exports'] = df['exports']*df['gdpp']/100\n",
    "df['imports'] = df['imports']*df['gdpp']/100\n",
    "df['health'] = df['health']*df['gdpp']/100"
   ]
  },
  {
   "cell_type": "markdown",
   "metadata": {},
   "source": [
    "# EDA: Univariate and Bivariate"
   ]
  },
  {
   "cell_type": "code",
   "execution_count": 8,
   "metadata": {},
   "outputs": [
    {
     "data": {
      "text/plain": [
       "Index(['country', 'child_mort', 'exports', 'health', 'imports', 'income',\n",
       "       'inflation', 'life_expec', 'total_fer', 'gdpp'],\n",
       "      dtype='object')"
      ]
     },
     "execution_count": 8,
     "metadata": {},
     "output_type": "execute_result"
    }
   ],
   "source": [
    "df.columns"
   ]
  },
  {
   "cell_type": "code",
   "execution_count": 9,
   "metadata": {},
   "outputs": [
    {
     "data": {
      "text/plain": [
       "['country',\n",
       " 'child_mort',\n",
       " 'exports',\n",
       " 'health',\n",
       " 'imports',\n",
       " 'income',\n",
       " 'inflation',\n",
       " 'life_expec',\n",
       " 'total_fer',\n",
       " 'gdpp']"
      ]
     },
     "execution_count": 9,
     "metadata": {},
     "output_type": "execute_result"
    }
   ],
   "source": [
    "col = list(df.columns)\n",
    "col"
   ]
  },
  {
   "cell_type": "code",
   "execution_count": 10,
   "metadata": {},
   "outputs": [
    {
     "data": {
      "text/plain": [
       "['child_mort',\n",
       " 'exports',\n",
       " 'health',\n",
       " 'imports',\n",
       " 'income',\n",
       " 'inflation',\n",
       " 'life_expec',\n",
       " 'total_fer',\n",
       " 'gdpp']"
      ]
     },
     "execution_count": 10,
     "metadata": {},
     "output_type": "execute_result"
    }
   ],
   "source": [
    "col = col[1:]\n",
    "col"
   ]
  },
  {
   "cell_type": "code",
   "execution_count": 11,
   "metadata": {},
   "outputs": [
    {
     "data": {
      "image/png": "[encoded data removed]",
      "text/plain": [
       "<Figure size 432x288 with 1 Axes>"
      ]
     },
     "metadata": {
      "needs_background": "light"
     },
     "output_type": "display_data"
    },
    {
     "data": {
      "image/png": "[encoded data removed]",
      "text/plain": [
       "<Figure size 432x288 with 1 Axes>"
      ]
     },
     "metadata": {
      "needs_background": "light"
     },
     "output_type": "display_data"
    },
    {
     "data": {
      "image/png": "[encoded data removed]",
      "text/plain": [
       "<Figure size 432x288 with 1 Axes>"
      ]
     },
     "metadata": {
      "needs_background": "light"
     },
     "output_type": "display_data"
    },
    {
     "data": {
      "image/png": "[encoded data removed]",
      "text/plain": [
       "<Figure size 432x288 with 1 Axes>"
      ]
     },
     "metadata": {
      "needs_background": "light"
     },
     "output_type": "display_data"
    },
    {
     "data": {
      "image/png": "[encoded data removed]",
      "text/plain": [
       "<Figure size 432x288 with 1 Axes>"
      ]
     },
     "metadata": {
      "needs_background": "light"
     },
     "output_type": "display_data"
    },
    {
     "data": {
      "image/png": "[encoded data removed]",
      "text/plain": [
       "<Figure size 432x288 with 1 Axes>"
      ]
     },
     "metadata": {
      "needs_background": "light"
     },
     "output_type": "display_data"
    },
    {
     "data": {
      "image/png": "[encoded data removed]",
      "text/plain": [
       "<Figure size 432x288 with 1 Axes>"
      ]
     },
     "metadata": {
      "needs_background": "light"
     },
     "output_type": "display_data"
    },
    {
     "data": {
      "image/png": "[encoded data removed]",
      "text/plain": [
       "<Figure size 432x288 with 1 Axes>"
      ]
     },
     "metadata": {
      "needs_background": "light"
     },
     "output_type": "display_data"
    },
    {
     "data": {
      "image/png": "[encoded data removed]",
      "text/plain": [
       "<Figure size 432x288 with 1 Axes>"
      ]
     },
     "metadata": {
      "needs_background": "light"
     },
     "output_type": "display_data"
    }
   ],
   "source": [
    "# Distribution of the columns\n",
    "for c in col:\n",
    "    sns.distplot(df[c])\n",
    "    plt.show()"
   ]
  },
  {
   "cell_type": "markdown",
   "metadata": {},
   "source": [
    "Insights:\n",
    "In GDPP, INCOME, CHILD_MORT columns, there are higher chances for internal grouping"
   ]
  },
  {
   "cell_type": "code",
   "execution_count": 12,
   "metadata": {},
   "outputs": [
    {
     "data": {
      "text/html": [
       "<div>\n",
       "<style scoped>\n",
       "    .dataframe tbody tr th:only-of-type {\n",
       "        vertical-align: middle;\n",
       "    }\n",
       "\n",
       "    .dataframe tbody tr th {\n",
       "        vertical-align: top;\n",
       "    }\n",
       "\n",
       "    .dataframe thead th {\n",
       "        text-align: right;\n",
       "    }\n",
       "</style>\n",
       "<table border=\"1\" class=\"dataframe\">\n",
       "  <thead>\n",
       "    <tr style=\"text-align: right;\">\n",
       "      <th></th>\n",
       "      <th>child_mort</th>\n",
       "      <th>exports</th>\n",
       "      <th>health</th>\n",
       "      <th>imports</th>\n",
       "      <th>income</th>\n",
       "      <th>inflation</th>\n",
       "      <th>life_expec</th>\n",
       "      <th>total_fer</th>\n",
       "      <th>gdpp</th>\n",
       "    </tr>\n",
       "  </thead>\n",
       "  <tbody>\n",
       "    <tr>\n",
       "      <th>child_mort</th>\n",
       "      <td>1.000000</td>\n",
       "      <td>-0.297230</td>\n",
       "      <td>-0.430438</td>\n",
       "      <td>-0.319138</td>\n",
       "      <td>-0.524315</td>\n",
       "      <td>0.288276</td>\n",
       "      <td>-0.886676</td>\n",
       "      <td>0.848478</td>\n",
       "      <td>-0.483032</td>\n",
       "    </tr>\n",
       "    <tr>\n",
       "      <th>exports</th>\n",
       "      <td>-0.297230</td>\n",
       "      <td>1.000000</td>\n",
       "      <td>0.612919</td>\n",
       "      <td>0.987686</td>\n",
       "      <td>0.725351</td>\n",
       "      <td>-0.141553</td>\n",
       "      <td>0.377694</td>\n",
       "      <td>-0.291096</td>\n",
       "      <td>0.768894</td>\n",
       "    </tr>\n",
       "    <tr>\n",
       "      <th>health</th>\n",
       "      <td>-0.430438</td>\n",
       "      <td>0.612919</td>\n",
       "      <td>1.000000</td>\n",
       "      <td>0.638581</td>\n",
       "      <td>0.690857</td>\n",
       "      <td>-0.253956</td>\n",
       "      <td>0.545626</td>\n",
       "      <td>-0.407984</td>\n",
       "      <td>0.916593</td>\n",
       "    </tr>\n",
       "    <tr>\n",
       "      <th>imports</th>\n",
       "      <td>-0.319138</td>\n",
       "      <td>0.987686</td>\n",
       "      <td>0.638581</td>\n",
       "      <td>1.000000</td>\n",
       "      <td>0.672056</td>\n",
       "      <td>-0.179458</td>\n",
       "      <td>0.397515</td>\n",
       "      <td>-0.317061</td>\n",
       "      <td>0.755114</td>\n",
       "    </tr>\n",
       "    <tr>\n",
       "      <th>income</th>\n",
       "      <td>-0.524315</td>\n",
       "      <td>0.725351</td>\n",
       "      <td>0.690857</td>\n",
       "      <td>0.672056</td>\n",
       "      <td>1.000000</td>\n",
       "      <td>-0.147756</td>\n",
       "      <td>0.611962</td>\n",
       "      <td>-0.501840</td>\n",
       "      <td>0.895571</td>\n",
       "    </tr>\n",
       "    <tr>\n",
       "      <th>inflation</th>\n",
       "      <td>0.288276</td>\n",
       "      <td>-0.141553</td>\n",
       "      <td>-0.253956</td>\n",
       "      <td>-0.179458</td>\n",
       "      <td>-0.147756</td>\n",
       "      <td>1.000000</td>\n",
       "      <td>-0.239705</td>\n",
       "      <td>0.316921</td>\n",
       "      <td>-0.221631</td>\n",
       "    </tr>\n",
       "    <tr>\n",
       "      <th>life_expec</th>\n",
       "      <td>-0.886676</td>\n",
       "      <td>0.377694</td>\n",
       "      <td>0.545626</td>\n",
       "      <td>0.397515</td>\n",
       "      <td>0.611962</td>\n",
       "      <td>-0.239705</td>\n",
       "      <td>1.000000</td>\n",
       "      <td>-0.760875</td>\n",
       "      <td>0.600089</td>\n",
       "    </tr>\n",
       "    <tr>\n",
       "      <th>total_fer</th>\n",
       "      <td>0.848478</td>\n",
       "      <td>-0.291096</td>\n",
       "      <td>-0.407984</td>\n",
       "      <td>-0.317061</td>\n",
       "      <td>-0.501840</td>\n",
       "      <td>0.316921</td>\n",
       "      <td>-0.760875</td>\n",
       "      <td>1.000000</td>\n",
       "      <td>-0.454910</td>\n",
       "    </tr>\n",
       "    <tr>\n",
       "      <th>gdpp</th>\n",
       "      <td>-0.483032</td>\n",
       "      <td>0.768894</td>\n",
       "      <td>0.916593</td>\n",
       "      <td>0.755114</td>\n",
       "      <td>0.895571</td>\n",
       "      <td>-0.221631</td>\n",
       "      <td>0.600089</td>\n",
       "      <td>-0.454910</td>\n",
       "      <td>1.000000</td>\n",
       "    </tr>\n",
       "  </tbody>\n",
       "</table>\n",
       "</div>"
      ],
      "text/plain": [
       "            child_mort   exports    health   imports    income  inflation  \\\n",
       "child_mort    1.000000 -0.297230 -0.430438 -0.319138 -0.524315   0.288276   \n",
       "exports      -0.297230  1.000000  0.612919  0.987686  0.725351  -0.141553   \n",
       "health       -0.430438  0.612919  1.000000  0.638581  0.690857  -0.253956   \n",
       "imports      -0.319138  0.987686  0.638581  1.000000  0.672056  -0.179458   \n",
       "income       -0.524315  0.725351  0.690857  0.672056  1.000000  -0.147756   \n",
       "inflation     0.288276 -0.141553 -0.253956 -0.179458 -0.147756   1.000000   \n",
       "life_expec   -0.886676  0.377694  0.545626  0.397515  0.611962  -0.239705   \n",
       "total_fer     0.848478 -0.291096 -0.407984 -0.317061 -0.501840   0.316921   \n",
       "gdpp         -0.483032  0.768894  0.916593  0.755114  0.895571  -0.221631   \n",
       "\n",
       "            life_expec  total_fer      gdpp  \n",
       "child_mort   -0.886676   0.848478 -0.483032  \n",
       "exports       0.377694  -0.291096  0.768894  \n",
       "health        0.545626  -0.407984  0.916593  \n",
       "imports       0.397515  -0.317061  0.755114  \n",
       "income        0.611962  -0.501840  0.895571  \n",
       "inflation    -0.239705   0.316921 -0.221631  \n",
       "life_expec    1.000000  -0.760875  0.600089  \n",
       "total_fer    -0.760875   1.000000 -0.454910  \n",
       "gdpp          0.600089  -0.454910  1.000000  "
      ]
     },
     "execution_count": 12,
     "metadata": {},
     "output_type": "execute_result"
    }
   ],
   "source": [
    "df[col].corr()"
   ]
  },
  {
   "cell_type": "code",
   "execution_count": 13,
   "metadata": {},
   "outputs": [
    {
     "data": {
      "text/plain": [
       "<matplotlib.axes._subplots.AxesSubplot at 0xae7aa7f188>"
      ]
     },
     "execution_count": 13,
     "metadata": {},
     "output_type": "execute_result"
    },
    {
     "data": {
      "image/png": "[encoded data removed]",
      "text/plain": [
       "<Figure size 720x360 with 2 Axes>"
      ]
     },
     "metadata": {
      "needs_background": "light"
     },
     "output_type": "display_data"
    }
   ],
   "source": [
    "plt.figure(figsize=(10,5))\n",
    "sns.heatmap(df[col].corr(), annot=True)"
   ]
  },
  {
   "cell_type": "markdown",
   "metadata": {},
   "source": [
    "Insights:\n",
    "\n",
    "1. Columns child_mort and total_fer are highly correlated with correlation of 0.85\n",
    "2. Columns life_expec and child_mort are highly correlated with correlation of -0.89\n",
    "3. Columns imports and exports are highly correlated with correlation of 0.99\n",
    "4. total_fer and life_expec are highly correlated with correlation of -0.76"
   ]
  },
  {
   "cell_type": "markdown",
   "metadata": {},
   "source": [
    "# Outliers"
   ]
  },
  {
   "cell_type": "code",
   "execution_count": 14,
   "metadata": {},
   "outputs": [
    {
     "data": {
      "image/png": "[encoded data removed]",
      "text/plain": [
       "<Figure size 432x288 with 1 Axes>"
      ]
     },
     "metadata": {
      "needs_background": "light"
     },
     "output_type": "display_data"
    },
    {
     "data": {
      "image/png": "[encoded data removed]",
      "text/plain": [
       "<Figure size 432x288 with 1 Axes>"
      ]
     },
     "metadata": {
      "needs_background": "light"
     },
     "output_type": "display_data"
    },
    {
     "data": {
      "image/png": "[encoded data removed]",
      "text/plain": [
       "<Figure size 432x288 with 1 Axes>"
      ]
     },
     "metadata": {
      "needs_background": "light"
     },
     "output_type": "display_data"
    },
    {
     "data": {
      "image/png": "[encoded data removed]",
      "text/plain": [
       "<Figure size 432x288 with 1 Axes>"
      ]
     },
     "metadata": {
      "needs_background": "light"
     },
     "output_type": "display_data"
    },
    {
     "data": {
      "image/png": "[encoded data removed]",
      "text/plain": [
       "<Figure size 432x288 with 1 Axes>"
      ]
     },
     "metadata": {
      "needs_background": "light"
     },
     "output_type": "display_data"
    },
    {
     "data": {
      "image/png": "[encoded data removed]",
      "text/plain": [
       "<Figure size 432x288 with 1 Axes>"
      ]
     },
     "metadata": {
      "needs_background": "light"
     },
     "output_type": "display_data"
    },
    {
     "data": {
      "image/png": "[encoded data removed]",
      "text/plain": [
       "<Figure size 432x288 with 1 Axes>"
      ]
     },
     "metadata": {
      "needs_background": "light"
     },
     "output_type": "display_data"
    },
    {
     "data": {
      "image/png": "[encoded data removed]",
      "text/plain": [
       "<Figure size 432x288 with 1 Axes>"
      ]
     },
     "metadata": {
      "needs_background": "light"
     },
     "output_type": "display_data"
    },
    {
     "data": {
      "image/png": "[encoded data removed]",
      "text/plain": [
       "<Figure size 432x288 with 1 Axes>"
      ]
     },
     "metadata": {
      "needs_background": "light"
     },
     "output_type": "display_data"
    }
   ],
   "source": [
    "for c in col:\n",
    "    sns.boxplot(df[c])\n",
    "    plt.show()"
   ]
  },
  {
   "cell_type": "markdown",
   "metadata": {},
   "source": [
    "Number of rows is very less in numbers so instead of removing outliers performing soft capping i.e If value is greater than or equal to  99% percentile then redefine the value as the value of 99% percentile; similarly if value less than or equal to  1% percentile then redefine value as the value of 1% percentile."
   ]
  },
  {
   "cell_type": "code",
   "execution_count": 15,
   "metadata": {},
   "outputs": [],
   "source": [
    "#Soft capping\n",
    "col = list(df.columns)\n",
    "col = col[1:]\n",
    "for c in col:\n",
    "    percentiles = df[c].quantile([0.01,0.99]).values\n",
    "    df[c][df[c] <= percentiles[0]] = percentiles[0]\n",
    "    df[c][df[c] >= percentiles[1]] = percentiles[1]"
   ]
  },
  {
   "cell_type": "code",
   "execution_count": 16,
   "metadata": {},
   "outputs": [
    {
     "data": {
      "image/png": "[encoded data removed]",
      "text/plain": [
       "<Figure size 432x288 with 1 Axes>"
      ]
     },
     "metadata": {
      "needs_background": "light"
     },
     "output_type": "display_data"
    },
    {
     "data": {
      "image/png": "[encoded data removed]",
      "text/plain": [
       "<Figure size 432x288 with 1 Axes>"
      ]
     },
     "metadata": {
      "needs_background": "light"
     },
     "output_type": "display_data"
    },
    {
     "data": {
      "image/png": "[encoded data removed]",
      "text/plain": [
       "<Figure size 432x288 with 1 Axes>"
      ]
     },
     "metadata": {
      "needs_background": "light"
     },
     "output_type": "display_data"
    },
    {
     "data": {
      "image/png": "[encoded data removed]",
      "text/plain": [
       "<Figure size 432x288 with 1 Axes>"
      ]
     },
     "metadata": {
      "needs_background": "light"
     },
     "output_type": "display_data"
    },
    {
     "data": {
      "image/png": "[encoded data removed]",
      "text/plain": [
       "<Figure size 432x288 with 1 Axes>"
      ]
     },
     "metadata": {
      "needs_background": "light"
     },
     "output_type": "display_data"
    },
    {
     "data": {
      "image/png": "[encoded data removed]",
      "text/plain": [
       "<Figure size 432x288 with 1 Axes>"
      ]
     },
     "metadata": {
      "needs_background": "light"
     },
     "output_type": "display_data"
    },
    {
     "data": {
      "image/png": "[encoded data removed]",
      "text/plain": [
       "<Figure size 432x288 with 1 Axes>"
      ]
     },
     "metadata": {
      "needs_background": "light"
     },
     "output_type": "display_data"
    },
    {
     "data": {
      "image/png": "[encoded data removed]",
      "text/plain": [
       "<Figure size 432x288 with 1 Axes>"
      ]
     },
     "metadata": {
      "needs_background": "light"
     },
     "output_type": "display_data"
    },
    {
     "data": {
      "image/png": "[encoded data removed]",
      "text/plain": [
       "<Figure size 432x288 with 1 Axes>"
      ]
     },
     "metadata": {
      "needs_background": "light"
     },
     "output_type": "display_data"
    }
   ],
   "source": [
    "for c in col:\n",
    "    sns.boxplot(df[c])\n",
    "    plt.show()"
   ]
  },
  {
   "cell_type": "code",
   "execution_count": 17,
   "metadata": {},
   "outputs": [],
   "source": [
    "#Calculating the Hopkins statistic\n",
    "from sklearn.neighbors import NearestNeighbors\n",
    "from random import sample\n",
    "from numpy.random import uniform\n",
    "import numpy as np\n",
    "from math import isnan\n",
    " \n",
    "def hopkins(X):\n",
    "    d = X.shape[1]\n",
    "    #d = len(vars) # columns\n",
    "    n = len(X) # rows\n",
    "    m = int(0.1 * n) \n",
    "    nbrs = NearestNeighbors(n_neighbors=1).fit(X.values)\n",
    " \n",
    "    rand_X = sample(range(0, n, 1), m)\n",
    " \n",
    "    ujd = []\n",
    "    wjd = []\n",
    "    for j in range(0, m):\n",
    "        u_dist, _ = nbrs.kneighbors(uniform(np.amin(X,axis=0),np.amax(X,axis=0),d).reshape(1, -1), 2, return_distance=True)\n",
    "        ujd.append(u_dist[0][1])\n",
    "        w_dist, _ = nbrs.kneighbors(X.iloc[rand_X[j]].values.reshape(1, -1), 2, return_distance=True)\n",
    "        wjd.append(w_dist[0][1])\n",
    " \n",
    "    H = sum(ujd) / (sum(ujd) + sum(wjd))\n",
    "    if isnan(H):\n",
    "        print(ujd, wjd)\n",
    "        H = 0\n",
    " \n",
    "    return H"
   ]
  },
  {
   "cell_type": "code",
   "execution_count": 18,
   "metadata": {},
   "outputs": [
    {
     "data": {
      "text/plain": [
       "0.9038719240103238"
      ]
     },
     "execution_count": 18,
     "metadata": {},
     "output_type": "execute_result"
    }
   ],
   "source": [
    "# How different your date is from the randomly scattered data?\n",
    "\n",
    "hopkins(df.drop('country', axis=1))"
   ]
  },
  {
   "cell_type": "markdown",
   "metadata": {},
   "source": [
    "Insights:\n",
    "if the value is between 0.7 and 0.99 then it has a high tendency to cluster.The more the dataset is different from the random distribution, the better it is for performing Clustering.\n",
    "in this case value is 0.91 that is it is 91 percente different from random data set so it is good for clustering"
   ]
  },
  {
   "cell_type": "markdown",
   "metadata": {},
   "source": [
    "# Scaling"
   ]
  },
  {
   "cell_type": "markdown",
   "metadata": {},
   "source": [
    "StandardScaler standardizes a feature by subtracting the mean and then scaling to unit variance. Unit variance means dividing all the values by the standard deviation"
   ]
  },
  {
   "cell_type": "code",
   "execution_count": 19,
   "metadata": {},
   "outputs": [],
   "source": [
    "from sklearn.preprocessing import StandardScaler\n",
    "s = StandardScaler()\n",
    "df_new = s.fit_transform(df.drop('country', axis=1))"
   ]
  },
  {
   "cell_type": "code",
   "execution_count": 20,
   "metadata": {},
   "outputs": [
    {
     "data": {
      "text/html": [
       "<div>\n",
       "<style scoped>\n",
       "    .dataframe tbody tr th:only-of-type {\n",
       "        vertical-align: middle;\n",
       "    }\n",
       "\n",
       "    .dataframe tbody tr th {\n",
       "        vertical-align: top;\n",
       "    }\n",
       "\n",
       "    .dataframe thead th {\n",
       "        text-align: right;\n",
       "    }\n",
       "</style>\n",
       "<table border=\"1\" class=\"dataframe\">\n",
       "  <thead>\n",
       "    <tr style=\"text-align: right;\">\n",
       "      <th></th>\n",
       "      <th>0</th>\n",
       "      <th>1</th>\n",
       "      <th>2</th>\n",
       "      <th>3</th>\n",
       "      <th>4</th>\n",
       "      <th>5</th>\n",
       "      <th>6</th>\n",
       "      <th>7</th>\n",
       "      <th>8</th>\n",
       "    </tr>\n",
       "  </thead>\n",
       "  <tbody>\n",
       "    <tr>\n",
       "      <th>0</th>\n",
       "      <td>1.344012</td>\n",
       "      <td>-0.569638</td>\n",
       "      <td>-0.566983</td>\n",
       "      <td>-0.598844</td>\n",
       "      <td>-0.851772</td>\n",
       "      <td>0.263649</td>\n",
       "      <td>-1.693799</td>\n",
       "      <td>1.926928</td>\n",
       "      <td>-0.702314</td>\n",
       "    </tr>\n",
       "    <tr>\n",
       "      <th>1</th>\n",
       "      <td>-0.547543</td>\n",
       "      <td>-0.473873</td>\n",
       "      <td>-0.440417</td>\n",
       "      <td>-0.413679</td>\n",
       "      <td>-0.387025</td>\n",
       "      <td>-0.375251</td>\n",
       "      <td>0.663053</td>\n",
       "      <td>-0.865911</td>\n",
       "      <td>-0.498775</td>\n",
       "    </tr>\n",
       "    <tr>\n",
       "      <th>2</th>\n",
       "      <td>-0.272548</td>\n",
       "      <td>-0.424015</td>\n",
       "      <td>-0.486295</td>\n",
       "      <td>-0.476198</td>\n",
       "      <td>-0.221124</td>\n",
       "      <td>1.123260</td>\n",
       "      <td>0.686504</td>\n",
       "      <td>-0.035427</td>\n",
       "      <td>-0.477483</td>\n",
       "    </tr>\n",
       "    <tr>\n",
       "      <th>3</th>\n",
       "      <td>2.084186</td>\n",
       "      <td>-0.381264</td>\n",
       "      <td>-0.534113</td>\n",
       "      <td>-0.464070</td>\n",
       "      <td>-0.612136</td>\n",
       "      <td>1.936405</td>\n",
       "      <td>-1.236499</td>\n",
       "      <td>2.154642</td>\n",
       "      <td>-0.531000</td>\n",
       "    </tr>\n",
       "    <tr>\n",
       "      <th>4</th>\n",
       "      <td>-0.709457</td>\n",
       "      <td>-0.086754</td>\n",
       "      <td>-0.178431</td>\n",
       "      <td>0.139659</td>\n",
       "      <td>0.125202</td>\n",
       "      <td>-0.768917</td>\n",
       "      <td>0.721681</td>\n",
       "      <td>-0.544433</td>\n",
       "      <td>-0.032079</td>\n",
       "    </tr>\n",
       "  </tbody>\n",
       "</table>\n",
       "</div>"
      ],
      "text/plain": [
       "          0         1         2         3         4         5         6  \\\n",
       "0  1.344012 -0.569638 -0.566983 -0.598844 -0.851772  0.263649 -1.693799   \n",
       "1 -0.547543 -0.473873 -0.440417 -0.413679 -0.387025 -0.375251  0.663053   \n",
       "2 -0.272548 -0.424015 -0.486295 -0.476198 -0.221124  1.123260  0.686504   \n",
       "3  2.084186 -0.381264 -0.534113 -0.464070 -0.612136  1.936405 -1.236499   \n",
       "4 -0.709457 -0.086754 -0.178431  0.139659  0.125202 -0.768917  0.721681   \n",
       "\n",
       "          7         8  \n",
       "0  1.926928 -0.702314  \n",
       "1 -0.865911 -0.498775  \n",
       "2 -0.035427 -0.477483  \n",
       "3  2.154642 -0.531000  \n",
       "4 -0.544433 -0.032079  "
      ]
     },
     "execution_count": 20,
     "metadata": {},
     "output_type": "execute_result"
    }
   ],
   "source": [
    "df_new = pd.DataFrame(df_new)\n",
    "df_new.head()"
   ]
  },
  {
   "cell_type": "code",
   "execution_count": 21,
   "metadata": {},
   "outputs": [],
   "source": [
    "df_new.columns = col"
   ]
  },
  {
   "cell_type": "code",
   "execution_count": 22,
   "metadata": {},
   "outputs": [
    {
     "data": {
      "text/html": [
       "<div>\n",
       "<style scoped>\n",
       "    .dataframe tbody tr th:only-of-type {\n",
       "        vertical-align: middle;\n",
       "    }\n",
       "\n",
       "    .dataframe tbody tr th {\n",
       "        vertical-align: top;\n",
       "    }\n",
       "\n",
       "    .dataframe thead th {\n",
       "        text-align: right;\n",
       "    }\n",
       "</style>\n",
       "<table border=\"1\" class=\"dataframe\">\n",
       "  <thead>\n",
       "    <tr style=\"text-align: right;\">\n",
       "      <th></th>\n",
       "      <th>child_mort</th>\n",
       "      <th>exports</th>\n",
       "      <th>health</th>\n",
       "      <th>imports</th>\n",
       "      <th>income</th>\n",
       "      <th>inflation</th>\n",
       "      <th>life_expec</th>\n",
       "      <th>total_fer</th>\n",
       "      <th>gdpp</th>\n",
       "    </tr>\n",
       "  </thead>\n",
       "  <tbody>\n",
       "    <tr>\n",
       "      <th>0</th>\n",
       "      <td>1.344012</td>\n",
       "      <td>-0.569638</td>\n",
       "      <td>-0.566983</td>\n",
       "      <td>-0.598844</td>\n",
       "      <td>-0.851772</td>\n",
       "      <td>0.263649</td>\n",
       "      <td>-1.693799</td>\n",
       "      <td>1.926928</td>\n",
       "      <td>-0.702314</td>\n",
       "    </tr>\n",
       "    <tr>\n",
       "      <th>1</th>\n",
       "      <td>-0.547543</td>\n",
       "      <td>-0.473873</td>\n",
       "      <td>-0.440417</td>\n",
       "      <td>-0.413679</td>\n",
       "      <td>-0.387025</td>\n",
       "      <td>-0.375251</td>\n",
       "      <td>0.663053</td>\n",
       "      <td>-0.865911</td>\n",
       "      <td>-0.498775</td>\n",
       "    </tr>\n",
       "    <tr>\n",
       "      <th>2</th>\n",
       "      <td>-0.272548</td>\n",
       "      <td>-0.424015</td>\n",
       "      <td>-0.486295</td>\n",
       "      <td>-0.476198</td>\n",
       "      <td>-0.221124</td>\n",
       "      <td>1.123260</td>\n",
       "      <td>0.686504</td>\n",
       "      <td>-0.035427</td>\n",
       "      <td>-0.477483</td>\n",
       "    </tr>\n",
       "    <tr>\n",
       "      <th>3</th>\n",
       "      <td>2.084186</td>\n",
       "      <td>-0.381264</td>\n",
       "      <td>-0.534113</td>\n",
       "      <td>-0.464070</td>\n",
       "      <td>-0.612136</td>\n",
       "      <td>1.936405</td>\n",
       "      <td>-1.236499</td>\n",
       "      <td>2.154642</td>\n",
       "      <td>-0.531000</td>\n",
       "    </tr>\n",
       "    <tr>\n",
       "      <th>4</th>\n",
       "      <td>-0.709457</td>\n",
       "      <td>-0.086754</td>\n",
       "      <td>-0.178431</td>\n",
       "      <td>0.139659</td>\n",
       "      <td>0.125202</td>\n",
       "      <td>-0.768917</td>\n",
       "      <td>0.721681</td>\n",
       "      <td>-0.544433</td>\n",
       "      <td>-0.032079</td>\n",
       "    </tr>\n",
       "  </tbody>\n",
       "</table>\n",
       "</div>"
      ],
      "text/plain": [
       "   child_mort   exports    health   imports    income  inflation  life_expec  \\\n",
       "0    1.344012 -0.569638 -0.566983 -0.598844 -0.851772   0.263649   -1.693799   \n",
       "1   -0.547543 -0.473873 -0.440417 -0.413679 -0.387025  -0.375251    0.663053   \n",
       "2   -0.272548 -0.424015 -0.486295 -0.476198 -0.221124   1.123260    0.686504   \n",
       "3    2.084186 -0.381264 -0.534113 -0.464070 -0.612136   1.936405   -1.236499   \n",
       "4   -0.709457 -0.086754 -0.178431  0.139659  0.125202  -0.768917    0.721681   \n",
       "\n",
       "   total_fer      gdpp  \n",
       "0   1.926928 -0.702314  \n",
       "1  -0.865911 -0.498775  \n",
       "2  -0.035427 -0.477483  \n",
       "3   2.154642 -0.531000  \n",
       "4  -0.544433 -0.032079  "
      ]
     },
     "execution_count": 22,
     "metadata": {},
     "output_type": "execute_result"
    }
   ],
   "source": [
    "df_new.head()"
   ]
  },
  {
   "cell_type": "markdown",
   "metadata": {},
   "source": [
    "## Finding the Optimal Number of Clusters SSD Elbow\n",
    "\n",
    "### SSD means sum of squared distances"
   ]
  },
  {
   "cell_type": "code",
   "execution_count": 23,
   "metadata": {},
   "outputs": [
    {
     "data": {
      "text/plain": [
       "[840.5078797502679,\n",
       " 547.793998743308,\n",
       " 434.2463189325476,\n",
       " 374.91833456180404,\n",
       " 334.7030878945377,\n",
       " 301.5542554697246,\n",
       " 274.7400300659274]"
      ]
     },
     "execution_count": 23,
     "metadata": {},
     "output_type": "execute_result"
    }
   ],
   "source": [
    "ssd = []\n",
    "for i in range(2,9):\n",
    "    kmeans = KMeans(n_clusters= i , max_iter=50)\n",
    "    kmeans.fit(df_new)\n",
    "    \n",
    "    ssd.append(kmeans.inertia_)\n",
    "    \n",
    "ssd"
   ]
  },
  {
   "cell_type": "code",
   "execution_count": 24,
   "metadata": {},
   "outputs": [
    {
     "data": {
      "text/plain": [
       "[<matplotlib.lines.Line2D at 0xae7bd54dc8>]"
      ]
     },
     "execution_count": 24,
     "metadata": {},
     "output_type": "execute_result"
    },
    {
     "data": {
      "image/png": "[encoded data removed]",
      "text/plain": [
       "<Figure size 432x288 with 1 Axes>"
      ]
     },
     "metadata": {
      "needs_background": "light"
     },
     "output_type": "display_data"
    }
   ],
   "source": [
    "plt.plot(ssd)"
   ]
  },
  {
   "cell_type": "markdown",
   "metadata": {},
   "source": [
    "Insights:\n",
    "while  increasing the number of clusters  squared sum of distance  always decrease but not significantly and in our case while going 2 to 3 ssd drop very significantly after that rate of drop is reduced or can say slope is reduced so we choose number of clusters = 3"
   ]
  },
  {
   "cell_type": "markdown",
   "metadata": {},
   "source": [
    "# Silhoutte Score"
   ]
  },
  {
   "cell_type": "code",
   "execution_count": 25,
   "metadata": {},
   "outputs": [
    {
     "name": "stdout",
     "output_type": "stream",
     "text": [
      "n_clusters=2, silhouette score is 0.46939980287788113\n",
      "n_clusters=3, silhouette score is 0.40708993455880516\n",
      "n_clusters=4, silhouette score is 0.39539142309551445\n",
      "n_clusters=5, silhouette score is 0.3700893262840813\n",
      "n_clusters=6, silhouette score is 0.3059923231620247\n",
      "n_clusters=7, silhouette score is 0.3152896527635921\n",
      "n_clusters=8, silhouette score is 0.3244432351637282\n"
     ]
    }
   ],
   "source": [
    "# silhouette analysis\n",
    "for i in range(2,9):\n",
    "    \n",
    "    # intialise kmeans\n",
    "    kmeans = KMeans(n_clusters= i , max_iter=50)\n",
    "    kmeans.fit(df_new)\n",
    "    \n",
    "    cluster_labels = kmeans.labels_\n",
    "    \n",
    "    # silhouette score\n",
    "    avg = silhouette_score(df_new, cluster_labels)\n",
    "    print(\"n_clusters={0}, silhouette score is {1}\".format(i, avg))\n",
    "    "
   ]
  },
  {
   "cell_type": "markdown",
   "metadata": {},
   "source": [
    "Insights:\n",
    "The value of the silhouette score range lies between -1 to 1. and A score closer to 1 indicates that the data point is very similar to other data points in the cluster,in our case silhouete score is almost same for all values between 2 to 6, but will choose number of clusters is 3 as elbow curve also tells the same"
   ]
  },
  {
   "cell_type": "markdown",
   "metadata": {},
   "source": [
    "# Kmeans analysis for Final value k = 3"
   ]
  },
  {
   "cell_type": "code",
   "execution_count": 26,
   "metadata": {},
   "outputs": [
    {
     "data": {
      "text/plain": [
       "KMeans(algorithm='auto', copy_x=True, init='k-means++', max_iter=300,\n",
       "       n_clusters=3, n_init=10, n_jobs=None, precompute_distances='auto',\n",
       "       random_state=0, tol=0.0001, verbose=0)"
      ]
     },
     "execution_count": 26,
     "metadata": {},
     "output_type": "execute_result"
    }
   ],
   "source": [
    "kmeans = KMeans(n_clusters=3, random_state=0)\n",
    "kmeans.fit(df_new)"
   ]
  },
  {
   "cell_type": "code",
   "execution_count": 27,
   "metadata": {},
   "outputs": [
    {
     "data": {
      "text/plain": [
       "array([[ 1.34749254, -0.49725446, -0.52608487, -0.53720606, -0.72379806,\n",
       "         0.41448121, -1.29898722,  1.35913998, -0.6241439 ],\n",
       "       [-0.44608365, -0.26896584, -0.29423633, -0.24319265, -0.17060836,\n",
       "        -0.03429503,  0.32222783, -0.46902602, -0.28478671],\n",
       "       [-0.84593495,  1.65776344,  1.78390839,  1.64390447,  1.72748481,\n",
       "        -0.57960501,  1.15003041, -0.79401299,  1.91688659]])"
      ]
     },
     "execution_count": 27,
     "metadata": {},
     "output_type": "execute_result"
    }
   ],
   "source": [
    "#Centroid values for the final clusters\n",
    "kmeans.cluster_centers_"
   ]
  },
  {
   "cell_type": "code",
   "execution_count": 28,
   "metadata": {},
   "outputs": [
    {
     "data": {
      "text/plain": [
       "array([0, 1, 1, 0, 1, 1, 1, 2, 2, 1, 1, 1, 1, 1, 1, 2, 1, 0, 1, 1, 1, 0,\n",
       "       1, 2, 1, 0, 0, 1, 0, 2, 1, 0, 0, 1, 1, 1, 0, 0, 0, 1, 0, 1, 2, 1,\n",
       "       2, 1, 1, 1, 1, 0, 0, 1, 1, 2, 2, 0, 0, 1, 2, 0, 1, 1, 1, 0, 0, 1,\n",
       "       0, 1, 2, 1, 1, 1, 0, 2, 1, 2, 1, 2, 1, 1, 0, 0, 2, 1, 0, 1, 1, 0,\n",
       "       0, 1, 1, 2, 1, 0, 0, 1, 1, 0, 2, 0, 1, 1, 1, 1, 1, 1, 0, 1, 0, 1,\n",
       "       2, 2, 0, 0, 2, 1, 0, 1, 1, 1, 1, 1, 1, 2, 1, 1, 0, 1, 1, 0, 1, 1,\n",
       "       0, 2, 1, 2, 0, 0, 1, 2, 1, 1, 0, 1, 2, 2, 1, 0, 1, 0, 0, 1, 1, 1,\n",
       "       1, 0, 1, 2, 2, 2, 1, 1, 1, 1, 1, 0, 0])"
      ]
     },
     "execution_count": 28,
     "metadata": {},
     "output_type": "execute_result"
    }
   ],
   "source": [
    "kmeans.labels_"
   ]
  },
  {
   "cell_type": "code",
   "execution_count": 29,
   "metadata": {},
   "outputs": [],
   "source": [
    "# Adding new cloumn labels\n",
    "df['labels'] = kmeans.labels_"
   ]
  },
  {
   "cell_type": "code",
   "execution_count": 30,
   "metadata": {},
   "outputs": [
    {
     "data": {
      "text/html": [
       "<div>\n",
       "<style scoped>\n",
       "    .dataframe tbody tr th:only-of-type {\n",
       "        vertical-align: middle;\n",
       "    }\n",
       "\n",
       "    .dataframe tbody tr th {\n",
       "        vertical-align: top;\n",
       "    }\n",
       "\n",
       "    .dataframe thead th {\n",
       "        text-align: right;\n",
       "    }\n",
       "</style>\n",
       "<table border=\"1\" class=\"dataframe\">\n",
       "  <thead>\n",
       "    <tr style=\"text-align: right;\">\n",
       "      <th></th>\n",
       "      <th>country</th>\n",
       "      <th>child_mort</th>\n",
       "      <th>exports</th>\n",
       "      <th>health</th>\n",
       "      <th>imports</th>\n",
       "      <th>income</th>\n",
       "      <th>inflation</th>\n",
       "      <th>life_expec</th>\n",
       "      <th>total_fer</th>\n",
       "      <th>gdpp</th>\n",
       "      <th>labels</th>\n",
       "    </tr>\n",
       "  </thead>\n",
       "  <tbody>\n",
       "    <tr>\n",
       "      <th>0</th>\n",
       "      <td>Afghanistan</td>\n",
       "      <td>90.2</td>\n",
       "      <td>55.30</td>\n",
       "      <td>41.9174</td>\n",
       "      <td>248.297</td>\n",
       "      <td>1610.0</td>\n",
       "      <td>9.44</td>\n",
       "      <td>56.2</td>\n",
       "      <td>5.82</td>\n",
       "      <td>553.0</td>\n",
       "      <td>0</td>\n",
       "    </tr>\n",
       "    <tr>\n",
       "      <th>1</th>\n",
       "      <td>Albania</td>\n",
       "      <td>16.6</td>\n",
       "      <td>1145.20</td>\n",
       "      <td>267.8950</td>\n",
       "      <td>1987.740</td>\n",
       "      <td>9930.0</td>\n",
       "      <td>4.49</td>\n",
       "      <td>76.3</td>\n",
       "      <td>1.65</td>\n",
       "      <td>4090.0</td>\n",
       "      <td>1</td>\n",
       "    </tr>\n",
       "    <tr>\n",
       "      <th>2</th>\n",
       "      <td>Algeria</td>\n",
       "      <td>27.3</td>\n",
       "      <td>1712.64</td>\n",
       "      <td>185.9820</td>\n",
       "      <td>1400.440</td>\n",
       "      <td>12900.0</td>\n",
       "      <td>16.10</td>\n",
       "      <td>76.5</td>\n",
       "      <td>2.89</td>\n",
       "      <td>4460.0</td>\n",
       "      <td>1</td>\n",
       "    </tr>\n",
       "    <tr>\n",
       "      <th>3</th>\n",
       "      <td>Angola</td>\n",
       "      <td>119.0</td>\n",
       "      <td>2199.19</td>\n",
       "      <td>100.6050</td>\n",
       "      <td>1514.370</td>\n",
       "      <td>5900.0</td>\n",
       "      <td>22.40</td>\n",
       "      <td>60.1</td>\n",
       "      <td>6.16</td>\n",
       "      <td>3530.0</td>\n",
       "      <td>0</td>\n",
       "    </tr>\n",
       "    <tr>\n",
       "      <th>4</th>\n",
       "      <td>Antigua and Barbuda</td>\n",
       "      <td>10.3</td>\n",
       "      <td>5551.00</td>\n",
       "      <td>735.6600</td>\n",
       "      <td>7185.800</td>\n",
       "      <td>19100.0</td>\n",
       "      <td>1.44</td>\n",
       "      <td>76.8</td>\n",
       "      <td>2.13</td>\n",
       "      <td>12200.0</td>\n",
       "      <td>1</td>\n",
       "    </tr>\n",
       "  </tbody>\n",
       "</table>\n",
       "</div>"
      ],
      "text/plain": [
       "               country  child_mort  exports    health   imports   income  \\\n",
       "0          Afghanistan        90.2    55.30   41.9174   248.297   1610.0   \n",
       "1              Albania        16.6  1145.20  267.8950  1987.740   9930.0   \n",
       "2              Algeria        27.3  1712.64  185.9820  1400.440  12900.0   \n",
       "3               Angola       119.0  2199.19  100.6050  1514.370   5900.0   \n",
       "4  Antigua and Barbuda        10.3  5551.00  735.6600  7185.800  19100.0   \n",
       "\n",
       "   inflation  life_expec  total_fer     gdpp  labels  \n",
       "0       9.44        56.2       5.82    553.0       0  \n",
       "1       4.49        76.3       1.65   4090.0       1  \n",
       "2      16.10        76.5       2.89   4460.0       1  \n",
       "3      22.40        60.1       6.16   3530.0       0  \n",
       "4       1.44        76.8       2.13  12200.0       1  "
      ]
     },
     "execution_count": 30,
     "metadata": {},
     "output_type": "execute_result"
    }
   ],
   "source": [
    "df.head()"
   ]
  },
  {
   "cell_type": "code",
   "execution_count": 31,
   "metadata": {},
   "outputs": [
    {
     "data": {
      "text/plain": [
       "1    90\n",
       "0    48\n",
       "2    29\n",
       "Name: labels, dtype: int64"
      ]
     },
     "execution_count": 31,
     "metadata": {},
     "output_type": "execute_result"
    }
   ],
   "source": [
    "df['labels'].value_counts()"
   ]
  },
  {
   "cell_type": "markdown",
   "metadata": {},
   "source": [
    "# Visualization using scatterplot"
   ]
  },
  {
   "cell_type": "markdown",
   "metadata": {},
   "source": [
    "Columns gdpp, income, and child_mort has higher chances of internal grouping"
   ]
  },
  {
   "cell_type": "code",
   "execution_count": 32,
   "metadata": {},
   "outputs": [
    {
     "data": {
      "text/plain": [
       "<matplotlib.axes._subplots.AxesSubplot at 0xae7c4197c8>"
      ]
     },
     "execution_count": 32,
     "metadata": {},
     "output_type": "execute_result"
    },
    {
     "data": {
      "image/png": "[encoded data removed]",
      "text/plain": [
       "<Figure size 432x288 with 1 Axes>"
      ]
     },
     "metadata": {
      "needs_background": "light"
     },
     "output_type": "display_data"
    }
   ],
   "source": [
    "sns.scatterplot(x='gdpp', y='income', hue= 'labels', data=df, palette='Set1')"
   ]
  },
  {
   "cell_type": "code",
   "execution_count": 33,
   "metadata": {},
   "outputs": [
    {
     "data": {
      "text/plain": [
       "<matplotlib.axes._subplots.AxesSubplot at 0xae7c8b9bc8>"
      ]
     },
     "execution_count": 33,
     "metadata": {},
     "output_type": "execute_result"
    },
    {
     "data": {
      "image/png": "[encoded data removed]",
      "text/plain": [
       "<Figure size 432x288 with 1 Axes>"
      ]
     },
     "metadata": {
      "needs_background": "light"
     },
     "output_type": "display_data"
    }
   ],
   "source": [
    "sns.scatterplot(x='gdpp', y='child_mort', hue= 'labels', data=df, palette='Set1')"
   ]
  },
  {
   "cell_type": "code",
   "execution_count": 34,
   "metadata": {},
   "outputs": [
    {
     "data": {
      "text/plain": [
       "<matplotlib.axes._subplots.AxesSubplot at 0xae7b798ac8>"
      ]
     },
     "execution_count": 34,
     "metadata": {},
     "output_type": "execute_result"
    },
    {
     "data": {
      "image/png": "[encoded data removed]",
      "text/plain": [
       "<Figure size 432x288 with 1 Axes>"
      ]
     },
     "metadata": {
      "needs_background": "light"
     },
     "output_type": "display_data"
    }
   ],
   "source": [
    "sns.scatterplot(x='income', y='child_mort', hue= 'labels', data=df, palette='Set1')"
   ]
  },
  {
   "cell_type": "markdown",
   "metadata": {},
   "source": [
    "# Perform Cluster profiling"
   ]
  },
  {
   "cell_type": "markdown",
   "metadata": {},
   "source": [
    "We are required to find one such cluster that is having LOW GDPP, LOW INCOME and HIGH CHILD_MORT."
   ]
  },
  {
   "cell_type": "code",
   "execution_count": 35,
   "metadata": {},
   "outputs": [
    {
     "data": {
      "text/html": [
       "<div>\n",
       "<style scoped>\n",
       "    .dataframe tbody tr th:only-of-type {\n",
       "        vertical-align: middle;\n",
       "    }\n",
       "\n",
       "    .dataframe tbody tr th {\n",
       "        vertical-align: top;\n",
       "    }\n",
       "\n",
       "    .dataframe thead th {\n",
       "        text-align: right;\n",
       "    }\n",
       "</style>\n",
       "<table border=\"1\" class=\"dataframe\">\n",
       "  <thead>\n",
       "    <tr style=\"text-align: right;\">\n",
       "      <th></th>\n",
       "      <th>gdpp</th>\n",
       "      <th>income</th>\n",
       "      <th>child_mort</th>\n",
       "    </tr>\n",
       "    <tr>\n",
       "      <th>labels</th>\n",
       "      <th></th>\n",
       "      <th></th>\n",
       "      <th></th>\n",
       "    </tr>\n",
       "  </thead>\n",
       "  <tbody>\n",
       "    <tr>\n",
       "      <th>0</th>\n",
       "      <td>1911.400833</td>\n",
       "      <td>3901.010000</td>\n",
       "      <td>90.335417</td>\n",
       "    </tr>\n",
       "    <tr>\n",
       "      <th>1</th>\n",
       "      <td>7808.577778</td>\n",
       "      <td>13804.333333</td>\n",
       "      <td>20.547778</td>\n",
       "    </tr>\n",
       "    <tr>\n",
       "      <th>2</th>\n",
       "      <td>46068.137931</td>\n",
       "      <td>47784.413793</td>\n",
       "      <td>4.989655</td>\n",
       "    </tr>\n",
       "  </tbody>\n",
       "</table>\n",
       "</div>"
      ],
      "text/plain": [
       "                gdpp        income  child_mort\n",
       "labels                                        \n",
       "0        1911.400833   3901.010000   90.335417\n",
       "1        7808.577778  13804.333333   20.547778\n",
       "2       46068.137931  47784.413793    4.989655"
      ]
     },
     "execution_count": 35,
     "metadata": {},
     "output_type": "execute_result"
    }
   ],
   "source": [
    "df[['gdpp','income','child_mort','labels']].groupby('labels').mean()"
   ]
  },
  {
   "cell_type": "code",
   "execution_count": 36,
   "metadata": {},
   "outputs": [
    {
     "data": {
      "text/plain": [
       "<matplotlib.axes._subplots.AxesSubplot at 0xae7b503c08>"
      ]
     },
     "execution_count": 36,
     "metadata": {},
     "output_type": "execute_result"
    },
    {
     "data": {
      "image/png": "[encoded data removed]",
      "text/plain": [
       "<Figure size 432x288 with 1 Axes>"
      ]
     },
     "metadata": {
      "needs_background": "light"
     },
     "output_type": "display_data"
    }
   ],
   "source": [
    "df[['gdpp','income','child_mort','labels']].groupby('labels').mean().plot(kind= 'bar')"
   ]
  },
  {
   "cell_type": "markdown",
   "metadata": {},
   "source": [
    "Insights:\n",
    "cluster 0 has higher probability to LOW GDPP, LOW INCOME and HIGH CHILD_MORT."
   ]
  },
  {
   "cell_type": "code",
   "execution_count": 37,
   "metadata": {},
   "outputs": [
    {
     "data": {
      "text/html": [
       "<div>\n",
       "<style scoped>\n",
       "    .dataframe tbody tr th:only-of-type {\n",
       "        vertical-align: middle;\n",
       "    }\n",
       "\n",
       "    .dataframe tbody tr th {\n",
       "        vertical-align: top;\n",
       "    }\n",
       "\n",
       "    .dataframe thead th {\n",
       "        text-align: right;\n",
       "    }\n",
       "</style>\n",
       "<table border=\"1\" class=\"dataframe\">\n",
       "  <thead>\n",
       "    <tr style=\"text-align: right;\">\n",
       "      <th></th>\n",
       "      <th>country</th>\n",
       "      <th>child_mort</th>\n",
       "      <th>exports</th>\n",
       "      <th>health</th>\n",
       "      <th>imports</th>\n",
       "      <th>income</th>\n",
       "      <th>inflation</th>\n",
       "      <th>life_expec</th>\n",
       "      <th>total_fer</th>\n",
       "      <th>gdpp</th>\n",
       "      <th>labels</th>\n",
       "    </tr>\n",
       "  </thead>\n",
       "  <tbody>\n",
       "    <tr>\n",
       "      <th>0</th>\n",
       "      <td>Afghanistan</td>\n",
       "      <td>90.2</td>\n",
       "      <td>55.300000</td>\n",
       "      <td>41.917400</td>\n",
       "      <td>248.29700</td>\n",
       "      <td>1610.00</td>\n",
       "      <td>9.440</td>\n",
       "      <td>56.20</td>\n",
       "      <td>5.8200</td>\n",
       "      <td>553.00</td>\n",
       "      <td>0</td>\n",
       "    </tr>\n",
       "    <tr>\n",
       "      <th>3</th>\n",
       "      <td>Angola</td>\n",
       "      <td>119.0</td>\n",
       "      <td>2199.190000</td>\n",
       "      <td>100.605000</td>\n",
       "      <td>1514.37000</td>\n",
       "      <td>5900.00</td>\n",
       "      <td>22.400</td>\n",
       "      <td>60.10</td>\n",
       "      <td>6.1600</td>\n",
       "      <td>3530.00</td>\n",
       "      <td>0</td>\n",
       "    </tr>\n",
       "    <tr>\n",
       "      <th>17</th>\n",
       "      <td>Benin</td>\n",
       "      <td>111.0</td>\n",
       "      <td>180.404000</td>\n",
       "      <td>31.078000</td>\n",
       "      <td>281.97600</td>\n",
       "      <td>1820.00</td>\n",
       "      <td>0.885</td>\n",
       "      <td>61.80</td>\n",
       "      <td>5.3600</td>\n",
       "      <td>758.00</td>\n",
       "      <td>0</td>\n",
       "    </tr>\n",
       "    <tr>\n",
       "      <th>21</th>\n",
       "      <td>Botswana</td>\n",
       "      <td>52.5</td>\n",
       "      <td>2768.600000</td>\n",
       "      <td>527.050000</td>\n",
       "      <td>3257.55000</td>\n",
       "      <td>13300.00</td>\n",
       "      <td>8.920</td>\n",
       "      <td>57.10</td>\n",
       "      <td>2.8800</td>\n",
       "      <td>6350.00</td>\n",
       "      <td>0</td>\n",
       "    </tr>\n",
       "    <tr>\n",
       "      <th>25</th>\n",
       "      <td>Burkina Faso</td>\n",
       "      <td>116.0</td>\n",
       "      <td>110.400000</td>\n",
       "      <td>38.755000</td>\n",
       "      <td>170.20000</td>\n",
       "      <td>1430.00</td>\n",
       "      <td>6.810</td>\n",
       "      <td>57.90</td>\n",
       "      <td>5.8700</td>\n",
       "      <td>575.00</td>\n",
       "      <td>0</td>\n",
       "    </tr>\n",
       "    <tr>\n",
       "      <th>26</th>\n",
       "      <td>Burundi</td>\n",
       "      <td>93.6</td>\n",
       "      <td>22.243716</td>\n",
       "      <td>26.796000</td>\n",
       "      <td>104.90964</td>\n",
       "      <td>764.00</td>\n",
       "      <td>12.300</td>\n",
       "      <td>57.70</td>\n",
       "      <td>6.2600</td>\n",
       "      <td>331.62</td>\n",
       "      <td>0</td>\n",
       "    </tr>\n",
       "    <tr>\n",
       "      <th>28</th>\n",
       "      <td>Cameroon</td>\n",
       "      <td>108.0</td>\n",
       "      <td>290.820000</td>\n",
       "      <td>67.203000</td>\n",
       "      <td>353.70000</td>\n",
       "      <td>2660.00</td>\n",
       "      <td>1.910</td>\n",
       "      <td>57.30</td>\n",
       "      <td>5.1100</td>\n",
       "      <td>1310.00</td>\n",
       "      <td>0</td>\n",
       "    </tr>\n",
       "    <tr>\n",
       "      <th>31</th>\n",
       "      <td>Central African Republic</td>\n",
       "      <td>149.0</td>\n",
       "      <td>52.628000</td>\n",
       "      <td>17.750800</td>\n",
       "      <td>118.19000</td>\n",
       "      <td>888.00</td>\n",
       "      <td>2.010</td>\n",
       "      <td>47.50</td>\n",
       "      <td>5.2100</td>\n",
       "      <td>446.00</td>\n",
       "      <td>0</td>\n",
       "    </tr>\n",
       "    <tr>\n",
       "      <th>32</th>\n",
       "      <td>Chad</td>\n",
       "      <td>150.0</td>\n",
       "      <td>330.096000</td>\n",
       "      <td>40.634100</td>\n",
       "      <td>390.19500</td>\n",
       "      <td>1930.00</td>\n",
       "      <td>6.390</td>\n",
       "      <td>56.50</td>\n",
       "      <td>6.5636</td>\n",
       "      <td>897.00</td>\n",
       "      <td>0</td>\n",
       "    </tr>\n",
       "    <tr>\n",
       "      <th>36</th>\n",
       "      <td>Comoros</td>\n",
       "      <td>88.2</td>\n",
       "      <td>126.885000</td>\n",
       "      <td>34.681900</td>\n",
       "      <td>397.57300</td>\n",
       "      <td>1410.00</td>\n",
       "      <td>3.870</td>\n",
       "      <td>65.90</td>\n",
       "      <td>4.7500</td>\n",
       "      <td>769.00</td>\n",
       "      <td>0</td>\n",
       "    </tr>\n",
       "    <tr>\n",
       "      <th>37</th>\n",
       "      <td>Congo, Dem. Rep.</td>\n",
       "      <td>116.0</td>\n",
       "      <td>137.274000</td>\n",
       "      <td>26.419400</td>\n",
       "      <td>165.66400</td>\n",
       "      <td>742.24</td>\n",
       "      <td>20.800</td>\n",
       "      <td>57.50</td>\n",
       "      <td>6.5400</td>\n",
       "      <td>334.00</td>\n",
       "      <td>0</td>\n",
       "    </tr>\n",
       "    <tr>\n",
       "      <th>38</th>\n",
       "      <td>Congo, Rep.</td>\n",
       "      <td>63.9</td>\n",
       "      <td>2331.740000</td>\n",
       "      <td>67.404000</td>\n",
       "      <td>1498.78000</td>\n",
       "      <td>5190.00</td>\n",
       "      <td>20.700</td>\n",
       "      <td>60.40</td>\n",
       "      <td>4.9500</td>\n",
       "      <td>2740.00</td>\n",
       "      <td>0</td>\n",
       "    </tr>\n",
       "    <tr>\n",
       "      <th>40</th>\n",
       "      <td>Cote d'Ivoire</td>\n",
       "      <td>111.0</td>\n",
       "      <td>617.320000</td>\n",
       "      <td>64.660000</td>\n",
       "      <td>528.26000</td>\n",
       "      <td>2690.00</td>\n",
       "      <td>5.390</td>\n",
       "      <td>56.30</td>\n",
       "      <td>5.2700</td>\n",
       "      <td>1220.00</td>\n",
       "      <td>0</td>\n",
       "    </tr>\n",
       "    <tr>\n",
       "      <th>49</th>\n",
       "      <td>Equatorial Guinea</td>\n",
       "      <td>111.0</td>\n",
       "      <td>14671.800000</td>\n",
       "      <td>766.080000</td>\n",
       "      <td>10071.90000</td>\n",
       "      <td>33700.00</td>\n",
       "      <td>24.900</td>\n",
       "      <td>60.90</td>\n",
       "      <td>5.2100</td>\n",
       "      <td>17100.00</td>\n",
       "      <td>0</td>\n",
       "    </tr>\n",
       "    <tr>\n",
       "      <th>50</th>\n",
       "      <td>Eritrea</td>\n",
       "      <td>55.2</td>\n",
       "      <td>23.087800</td>\n",
       "      <td>17.009362</td>\n",
       "      <td>112.30600</td>\n",
       "      <td>1420.00</td>\n",
       "      <td>11.600</td>\n",
       "      <td>61.70</td>\n",
       "      <td>4.6100</td>\n",
       "      <td>482.00</td>\n",
       "      <td>0</td>\n",
       "    </tr>\n",
       "    <tr>\n",
       "      <th>55</th>\n",
       "      <td>Gabon</td>\n",
       "      <td>63.7</td>\n",
       "      <td>5048.750000</td>\n",
       "      <td>306.250000</td>\n",
       "      <td>1653.75000</td>\n",
       "      <td>15400.00</td>\n",
       "      <td>16.600</td>\n",
       "      <td>62.90</td>\n",
       "      <td>4.0800</td>\n",
       "      <td>8750.00</td>\n",
       "      <td>0</td>\n",
       "    </tr>\n",
       "    <tr>\n",
       "      <th>56</th>\n",
       "      <td>Gambia</td>\n",
       "      <td>80.3</td>\n",
       "      <td>133.756000</td>\n",
       "      <td>31.977800</td>\n",
       "      <td>239.97400</td>\n",
       "      <td>1660.00</td>\n",
       "      <td>4.300</td>\n",
       "      <td>65.50</td>\n",
       "      <td>5.7100</td>\n",
       "      <td>562.00</td>\n",
       "      <td>0</td>\n",
       "    </tr>\n",
       "    <tr>\n",
       "      <th>59</th>\n",
       "      <td>Ghana</td>\n",
       "      <td>74.7</td>\n",
       "      <td>386.450000</td>\n",
       "      <td>68.382000</td>\n",
       "      <td>601.29000</td>\n",
       "      <td>3060.00</td>\n",
       "      <td>16.600</td>\n",
       "      <td>62.20</td>\n",
       "      <td>4.2700</td>\n",
       "      <td>1310.00</td>\n",
       "      <td>0</td>\n",
       "    </tr>\n",
       "    <tr>\n",
       "      <th>63</th>\n",
       "      <td>Guinea</td>\n",
       "      <td>109.0</td>\n",
       "      <td>196.344000</td>\n",
       "      <td>31.946400</td>\n",
       "      <td>279.93600</td>\n",
       "      <td>1190.00</td>\n",
       "      <td>16.100</td>\n",
       "      <td>58.00</td>\n",
       "      <td>5.3400</td>\n",
       "      <td>648.00</td>\n",
       "      <td>0</td>\n",
       "    </tr>\n",
       "    <tr>\n",
       "      <th>64</th>\n",
       "      <td>Guinea-Bissau</td>\n",
       "      <td>114.0</td>\n",
       "      <td>81.503000</td>\n",
       "      <td>46.495000</td>\n",
       "      <td>192.54400</td>\n",
       "      <td>1390.00</td>\n",
       "      <td>2.970</td>\n",
       "      <td>55.60</td>\n",
       "      <td>5.0500</td>\n",
       "      <td>547.00</td>\n",
       "      <td>0</td>\n",
       "    </tr>\n",
       "    <tr>\n",
       "      <th>66</th>\n",
       "      <td>Haiti</td>\n",
       "      <td>153.4</td>\n",
       "      <td>101.286000</td>\n",
       "      <td>45.744200</td>\n",
       "      <td>428.31400</td>\n",
       "      <td>1500.00</td>\n",
       "      <td>5.450</td>\n",
       "      <td>47.16</td>\n",
       "      <td>3.3300</td>\n",
       "      <td>662.00</td>\n",
       "      <td>0</td>\n",
       "    </tr>\n",
       "    <tr>\n",
       "      <th>72</th>\n",
       "      <td>Iraq</td>\n",
       "      <td>36.9</td>\n",
       "      <td>1773.000000</td>\n",
       "      <td>378.450000</td>\n",
       "      <td>1534.50000</td>\n",
       "      <td>12700.00</td>\n",
       "      <td>16.600</td>\n",
       "      <td>67.20</td>\n",
       "      <td>4.5600</td>\n",
       "      <td>4500.00</td>\n",
       "      <td>0</td>\n",
       "    </tr>\n",
       "    <tr>\n",
       "      <th>80</th>\n",
       "      <td>Kenya</td>\n",
       "      <td>62.2</td>\n",
       "      <td>200.169000</td>\n",
       "      <td>45.932500</td>\n",
       "      <td>324.91200</td>\n",
       "      <td>2480.00</td>\n",
       "      <td>2.090</td>\n",
       "      <td>62.80</td>\n",
       "      <td>4.3700</td>\n",
       "      <td>967.00</td>\n",
       "      <td>0</td>\n",
       "    </tr>\n",
       "    <tr>\n",
       "      <th>81</th>\n",
       "      <td>Kiribati</td>\n",
       "      <td>62.7</td>\n",
       "      <td>198.170000</td>\n",
       "      <td>168.370000</td>\n",
       "      <td>1190.51000</td>\n",
       "      <td>1730.00</td>\n",
       "      <td>1.520</td>\n",
       "      <td>60.70</td>\n",
       "      <td>3.8400</td>\n",
       "      <td>1490.00</td>\n",
       "      <td>0</td>\n",
       "    </tr>\n",
       "    <tr>\n",
       "      <th>84</th>\n",
       "      <td>Lao</td>\n",
       "      <td>78.9</td>\n",
       "      <td>403.560000</td>\n",
       "      <td>50.958000</td>\n",
       "      <td>562.02000</td>\n",
       "      <td>3980.00</td>\n",
       "      <td>9.200</td>\n",
       "      <td>63.80</td>\n",
       "      <td>3.1500</td>\n",
       "      <td>1140.00</td>\n",
       "      <td>0</td>\n",
       "    </tr>\n",
       "    <tr>\n",
       "      <th>87</th>\n",
       "      <td>Lesotho</td>\n",
       "      <td>99.7</td>\n",
       "      <td>460.980000</td>\n",
       "      <td>129.870000</td>\n",
       "      <td>1181.70000</td>\n",
       "      <td>2380.00</td>\n",
       "      <td>4.150</td>\n",
       "      <td>47.16</td>\n",
       "      <td>3.3000</td>\n",
       "      <td>1170.00</td>\n",
       "      <td>0</td>\n",
       "    </tr>\n",
       "    <tr>\n",
       "      <th>88</th>\n",
       "      <td>Liberia</td>\n",
       "      <td>89.3</td>\n",
       "      <td>62.457000</td>\n",
       "      <td>38.586000</td>\n",
       "      <td>302.80200</td>\n",
       "      <td>742.24</td>\n",
       "      <td>5.470</td>\n",
       "      <td>60.80</td>\n",
       "      <td>5.0200</td>\n",
       "      <td>331.62</td>\n",
       "      <td>0</td>\n",
       "    </tr>\n",
       "    <tr>\n",
       "      <th>93</th>\n",
       "      <td>Madagascar</td>\n",
       "      <td>62.2</td>\n",
       "      <td>103.250000</td>\n",
       "      <td>17.009362</td>\n",
       "      <td>177.59000</td>\n",
       "      <td>1390.00</td>\n",
       "      <td>8.790</td>\n",
       "      <td>60.80</td>\n",
       "      <td>4.6000</td>\n",
       "      <td>413.00</td>\n",
       "      <td>0</td>\n",
       "    </tr>\n",
       "    <tr>\n",
       "      <th>94</th>\n",
       "      <td>Malawi</td>\n",
       "      <td>90.5</td>\n",
       "      <td>104.652000</td>\n",
       "      <td>30.248100</td>\n",
       "      <td>160.19100</td>\n",
       "      <td>1030.00</td>\n",
       "      <td>12.100</td>\n",
       "      <td>53.10</td>\n",
       "      <td>5.3100</td>\n",
       "      <td>459.00</td>\n",
       "      <td>0</td>\n",
       "    </tr>\n",
       "    <tr>\n",
       "      <th>97</th>\n",
       "      <td>Mali</td>\n",
       "      <td>137.0</td>\n",
       "      <td>161.424000</td>\n",
       "      <td>35.258400</td>\n",
       "      <td>248.50800</td>\n",
       "      <td>1870.00</td>\n",
       "      <td>4.370</td>\n",
       "      <td>59.50</td>\n",
       "      <td>6.5500</td>\n",
       "      <td>708.00</td>\n",
       "      <td>0</td>\n",
       "    </tr>\n",
       "    <tr>\n",
       "      <th>99</th>\n",
       "      <td>Mauritania</td>\n",
       "      <td>97.4</td>\n",
       "      <td>608.400000</td>\n",
       "      <td>52.920000</td>\n",
       "      <td>734.40000</td>\n",
       "      <td>3320.00</td>\n",
       "      <td>18.900</td>\n",
       "      <td>68.20</td>\n",
       "      <td>4.9800</td>\n",
       "      <td>1200.00</td>\n",
       "      <td>0</td>\n",
       "    </tr>\n",
       "    <tr>\n",
       "      <th>106</th>\n",
       "      <td>Mozambique</td>\n",
       "      <td>101.0</td>\n",
       "      <td>131.985000</td>\n",
       "      <td>21.829900</td>\n",
       "      <td>193.57800</td>\n",
       "      <td>918.00</td>\n",
       "      <td>7.640</td>\n",
       "      <td>54.50</td>\n",
       "      <td>5.5600</td>\n",
       "      <td>419.00</td>\n",
       "      <td>0</td>\n",
       "    </tr>\n",
       "    <tr>\n",
       "      <th>108</th>\n",
       "      <td>Namibia</td>\n",
       "      <td>56.0</td>\n",
       "      <td>2480.820000</td>\n",
       "      <td>351.882000</td>\n",
       "      <td>3150.33000</td>\n",
       "      <td>8460.00</td>\n",
       "      <td>3.560</td>\n",
       "      <td>58.60</td>\n",
       "      <td>3.6000</td>\n",
       "      <td>5190.00</td>\n",
       "      <td>0</td>\n",
       "    </tr>\n",
       "    <tr>\n",
       "      <th>112</th>\n",
       "      <td>Niger</td>\n",
       "      <td>123.0</td>\n",
       "      <td>77.256000</td>\n",
       "      <td>17.956800</td>\n",
       "      <td>170.86800</td>\n",
       "      <td>814.00</td>\n",
       "      <td>2.550</td>\n",
       "      <td>58.80</td>\n",
       "      <td>6.5636</td>\n",
       "      <td>348.00</td>\n",
       "      <td>0</td>\n",
       "    </tr>\n",
       "    <tr>\n",
       "      <th>113</th>\n",
       "      <td>Nigeria</td>\n",
       "      <td>130.0</td>\n",
       "      <td>589.490000</td>\n",
       "      <td>118.131000</td>\n",
       "      <td>405.42000</td>\n",
       "      <td>5150.00</td>\n",
       "      <td>41.478</td>\n",
       "      <td>60.50</td>\n",
       "      <td>5.8400</td>\n",
       "      <td>2330.00</td>\n",
       "      <td>0</td>\n",
       "    </tr>\n",
       "    <tr>\n",
       "      <th>116</th>\n",
       "      <td>Pakistan</td>\n",
       "      <td>92.1</td>\n",
       "      <td>140.400000</td>\n",
       "      <td>22.880000</td>\n",
       "      <td>201.76000</td>\n",
       "      <td>4280.00</td>\n",
       "      <td>10.900</td>\n",
       "      <td>65.30</td>\n",
       "      <td>3.8500</td>\n",
       "      <td>1040.00</td>\n",
       "      <td>0</td>\n",
       "    </tr>\n",
       "    <tr>\n",
       "      <th>126</th>\n",
       "      <td>Rwanda</td>\n",
       "      <td>63.6</td>\n",
       "      <td>67.560000</td>\n",
       "      <td>59.115000</td>\n",
       "      <td>168.90000</td>\n",
       "      <td>1350.00</td>\n",
       "      <td>2.610</td>\n",
       "      <td>64.60</td>\n",
       "      <td>4.5100</td>\n",
       "      <td>563.00</td>\n",
       "      <td>0</td>\n",
       "    </tr>\n",
       "    <tr>\n",
       "      <th>129</th>\n",
       "      <td>Senegal</td>\n",
       "      <td>66.8</td>\n",
       "      <td>249.000000</td>\n",
       "      <td>56.600000</td>\n",
       "      <td>403.00000</td>\n",
       "      <td>2180.00</td>\n",
       "      <td>1.850</td>\n",
       "      <td>64.00</td>\n",
       "      <td>5.0600</td>\n",
       "      <td>1000.00</td>\n",
       "      <td>0</td>\n",
       "    </tr>\n",
       "    <tr>\n",
       "      <th>132</th>\n",
       "      <td>Sierra Leone</td>\n",
       "      <td>153.4</td>\n",
       "      <td>67.032000</td>\n",
       "      <td>52.269000</td>\n",
       "      <td>137.65500</td>\n",
       "      <td>1220.00</td>\n",
       "      <td>17.200</td>\n",
       "      <td>55.00</td>\n",
       "      <td>5.2000</td>\n",
       "      <td>399.00</td>\n",
       "      <td>0</td>\n",
       "    </tr>\n",
       "    <tr>\n",
       "      <th>136</th>\n",
       "      <td>Solomon Islands</td>\n",
       "      <td>28.1</td>\n",
       "      <td>635.970000</td>\n",
       "      <td>110.295000</td>\n",
       "      <td>1047.48000</td>\n",
       "      <td>1780.00</td>\n",
       "      <td>6.810</td>\n",
       "      <td>61.70</td>\n",
       "      <td>4.2400</td>\n",
       "      <td>1290.00</td>\n",
       "      <td>0</td>\n",
       "    </tr>\n",
       "    <tr>\n",
       "      <th>137</th>\n",
       "      <td>South Africa</td>\n",
       "      <td>53.7</td>\n",
       "      <td>2082.080000</td>\n",
       "      <td>650.832000</td>\n",
       "      <td>1994.72000</td>\n",
       "      <td>12000.00</td>\n",
       "      <td>6.350</td>\n",
       "      <td>54.30</td>\n",
       "      <td>2.5900</td>\n",
       "      <td>7280.00</td>\n",
       "      <td>0</td>\n",
       "    </tr>\n",
       "    <tr>\n",
       "      <th>142</th>\n",
       "      <td>Sudan</td>\n",
       "      <td>76.7</td>\n",
       "      <td>291.560000</td>\n",
       "      <td>93.536000</td>\n",
       "      <td>254.56000</td>\n",
       "      <td>3370.00</td>\n",
       "      <td>19.600</td>\n",
       "      <td>66.30</td>\n",
       "      <td>4.8800</td>\n",
       "      <td>1480.00</td>\n",
       "      <td>0</td>\n",
       "    </tr>\n",
       "    <tr>\n",
       "      <th>147</th>\n",
       "      <td>Tanzania</td>\n",
       "      <td>71.9</td>\n",
       "      <td>131.274000</td>\n",
       "      <td>42.190200</td>\n",
       "      <td>204.28200</td>\n",
       "      <td>2090.00</td>\n",
       "      <td>9.250</td>\n",
       "      <td>59.30</td>\n",
       "      <td>5.4300</td>\n",
       "      <td>702.00</td>\n",
       "      <td>0</td>\n",
       "    </tr>\n",
       "    <tr>\n",
       "      <th>149</th>\n",
       "      <td>Timor-Leste</td>\n",
       "      <td>62.6</td>\n",
       "      <td>79.200000</td>\n",
       "      <td>328.320000</td>\n",
       "      <td>1000.80000</td>\n",
       "      <td>1850.00</td>\n",
       "      <td>26.500</td>\n",
       "      <td>71.10</td>\n",
       "      <td>6.2300</td>\n",
       "      <td>3600.00</td>\n",
       "      <td>0</td>\n",
       "    </tr>\n",
       "    <tr>\n",
       "      <th>150</th>\n",
       "      <td>Togo</td>\n",
       "      <td>90.3</td>\n",
       "      <td>196.176000</td>\n",
       "      <td>37.332000</td>\n",
       "      <td>279.62400</td>\n",
       "      <td>1210.00</td>\n",
       "      <td>1.180</td>\n",
       "      <td>58.70</td>\n",
       "      <td>4.8700</td>\n",
       "      <td>488.00</td>\n",
       "      <td>0</td>\n",
       "    </tr>\n",
       "    <tr>\n",
       "      <th>155</th>\n",
       "      <td>Uganda</td>\n",
       "      <td>81.0</td>\n",
       "      <td>101.745000</td>\n",
       "      <td>53.609500</td>\n",
       "      <td>170.17000</td>\n",
       "      <td>1540.00</td>\n",
       "      <td>10.600</td>\n",
       "      <td>56.80</td>\n",
       "      <td>6.1500</td>\n",
       "      <td>595.00</td>\n",
       "      <td>0</td>\n",
       "    </tr>\n",
       "    <tr>\n",
       "      <th>165</th>\n",
       "      <td>Yemen</td>\n",
       "      <td>56.3</td>\n",
       "      <td>393.000000</td>\n",
       "      <td>67.858000</td>\n",
       "      <td>450.64000</td>\n",
       "      <td>4480.00</td>\n",
       "      <td>23.600</td>\n",
       "      <td>67.50</td>\n",
       "      <td>4.6700</td>\n",
       "      <td>1310.00</td>\n",
       "      <td>0</td>\n",
       "    </tr>\n",
       "    <tr>\n",
       "      <th>166</th>\n",
       "      <td>Zambia</td>\n",
       "      <td>83.1</td>\n",
       "      <td>540.200000</td>\n",
       "      <td>85.994000</td>\n",
       "      <td>451.14000</td>\n",
       "      <td>3280.00</td>\n",
       "      <td>14.000</td>\n",
       "      <td>52.00</td>\n",
       "      <td>5.4000</td>\n",
       "      <td>1460.00</td>\n",
       "      <td>0</td>\n",
       "    </tr>\n",
       "  </tbody>\n",
       "</table>\n",
       "</div>"
      ],
      "text/plain": [
       "                      country  child_mort       exports      health  \\\n",
       "0                 Afghanistan        90.2     55.300000   41.917400   \n",
       "3                      Angola       119.0   2199.190000  100.605000   \n",
       "17                      Benin       111.0    180.404000   31.078000   \n",
       "21                   Botswana        52.5   2768.600000  527.050000   \n",
       "25               Burkina Faso       116.0    110.400000   38.755000   \n",
       "26                    Burundi        93.6     22.243716   26.796000   \n",
       "28                   Cameroon       108.0    290.820000   67.203000   \n",
       "31   Central African Republic       149.0     52.628000   17.750800   \n",
       "32                       Chad       150.0    330.096000   40.634100   \n",
       "36                    Comoros        88.2    126.885000   34.681900   \n",
       "37           Congo, Dem. Rep.       116.0    137.274000   26.419400   \n",
       "38                Congo, Rep.        63.9   2331.740000   67.404000   \n",
       "40              Cote d'Ivoire       111.0    617.320000   64.660000   \n",
       "49          Equatorial Guinea       111.0  14671.800000  766.080000   \n",
       "50                    Eritrea        55.2     23.087800   17.009362   \n",
       "55                      Gabon        63.7   5048.750000  306.250000   \n",
       "56                     Gambia        80.3    133.756000   31.977800   \n",
       "59                      Ghana        74.7    386.450000   68.382000   \n",
       "63                     Guinea       109.0    196.344000   31.946400   \n",
       "64              Guinea-Bissau       114.0     81.503000   46.495000   \n",
       "66                      Haiti       153.4    101.286000   45.744200   \n",
       "72                       Iraq        36.9   1773.000000  378.450000   \n",
       "80                      Kenya        62.2    200.169000   45.932500   \n",
       "81                   Kiribati        62.7    198.170000  168.370000   \n",
       "84                        Lao        78.9    403.560000   50.958000   \n",
       "87                    Lesotho        99.7    460.980000  129.870000   \n",
       "88                    Liberia        89.3     62.457000   38.586000   \n",
       "93                 Madagascar        62.2    103.250000   17.009362   \n",
       "94                     Malawi        90.5    104.652000   30.248100   \n",
       "97                       Mali       137.0    161.424000   35.258400   \n",
       "99                 Mauritania        97.4    608.400000   52.920000   \n",
       "106                Mozambique       101.0    131.985000   21.829900   \n",
       "108                   Namibia        56.0   2480.820000  351.882000   \n",
       "112                     Niger       123.0     77.256000   17.956800   \n",
       "113                   Nigeria       130.0    589.490000  118.131000   \n",
       "116                  Pakistan        92.1    140.400000   22.880000   \n",
       "126                    Rwanda        63.6     67.560000   59.115000   \n",
       "129                   Senegal        66.8    249.000000   56.600000   \n",
       "132              Sierra Leone       153.4     67.032000   52.269000   \n",
       "136           Solomon Islands        28.1    635.970000  110.295000   \n",
       "137              South Africa        53.7   2082.080000  650.832000   \n",
       "142                     Sudan        76.7    291.560000   93.536000   \n",
       "147                  Tanzania        71.9    131.274000   42.190200   \n",
       "149               Timor-Leste        62.6     79.200000  328.320000   \n",
       "150                      Togo        90.3    196.176000   37.332000   \n",
       "155                    Uganda        81.0    101.745000   53.609500   \n",
       "165                     Yemen        56.3    393.000000   67.858000   \n",
       "166                    Zambia        83.1    540.200000   85.994000   \n",
       "\n",
       "         imports    income  inflation  life_expec  total_fer      gdpp  labels  \n",
       "0      248.29700   1610.00      9.440       56.20     5.8200    553.00       0  \n",
       "3     1514.37000   5900.00     22.400       60.10     6.1600   3530.00       0  \n",
       "17     281.97600   1820.00      0.885       61.80     5.3600    758.00       0  \n",
       "21    3257.55000  13300.00      8.920       57.10     2.8800   6350.00       0  \n",
       "25     170.20000   1430.00      6.810       57.90     5.8700    575.00       0  \n",
       "26     104.90964    764.00     12.300       57.70     6.2600    331.62       0  \n",
       "28     353.70000   2660.00      1.910       57.30     5.1100   1310.00       0  \n",
       "31     118.19000    888.00      2.010       47.50     5.2100    446.00       0  \n",
       "32     390.19500   1930.00      6.390       56.50     6.5636    897.00       0  \n",
       "36     397.57300   1410.00      3.870       65.90     4.7500    769.00       0  \n",
       "37     165.66400    742.24     20.800       57.50     6.5400    334.00       0  \n",
       "38    1498.78000   5190.00     20.700       60.40     4.9500   2740.00       0  \n",
       "40     528.26000   2690.00      5.390       56.30     5.2700   1220.00       0  \n",
       "49   10071.90000  33700.00     24.900       60.90     5.2100  17100.00       0  \n",
       "50     112.30600   1420.00     11.600       61.70     4.6100    482.00       0  \n",
       "55    1653.75000  15400.00     16.600       62.90     4.0800   8750.00       0  \n",
       "56     239.97400   1660.00      4.300       65.50     5.7100    562.00       0  \n",
       "59     601.29000   3060.00     16.600       62.20     4.2700   1310.00       0  \n",
       "63     279.93600   1190.00     16.100       58.00     5.3400    648.00       0  \n",
       "64     192.54400   1390.00      2.970       55.60     5.0500    547.00       0  \n",
       "66     428.31400   1500.00      5.450       47.16     3.3300    662.00       0  \n",
       "72    1534.50000  12700.00     16.600       67.20     4.5600   4500.00       0  \n",
       "80     324.91200   2480.00      2.090       62.80     4.3700    967.00       0  \n",
       "81    1190.51000   1730.00      1.520       60.70     3.8400   1490.00       0  \n",
       "84     562.02000   3980.00      9.200       63.80     3.1500   1140.00       0  \n",
       "87    1181.70000   2380.00      4.150       47.16     3.3000   1170.00       0  \n",
       "88     302.80200    742.24      5.470       60.80     5.0200    331.62       0  \n",
       "93     177.59000   1390.00      8.790       60.80     4.6000    413.00       0  \n",
       "94     160.19100   1030.00     12.100       53.10     5.3100    459.00       0  \n",
       "97     248.50800   1870.00      4.370       59.50     6.5500    708.00       0  \n",
       "99     734.40000   3320.00     18.900       68.20     4.9800   1200.00       0  \n",
       "106    193.57800    918.00      7.640       54.50     5.5600    419.00       0  \n",
       "108   3150.33000   8460.00      3.560       58.60     3.6000   5190.00       0  \n",
       "112    170.86800    814.00      2.550       58.80     6.5636    348.00       0  \n",
       "113    405.42000   5150.00     41.478       60.50     5.8400   2330.00       0  \n",
       "116    201.76000   4280.00     10.900       65.30     3.8500   1040.00       0  \n",
       "126    168.90000   1350.00      2.610       64.60     4.5100    563.00       0  \n",
       "129    403.00000   2180.00      1.850       64.00     5.0600   1000.00       0  \n",
       "132    137.65500   1220.00     17.200       55.00     5.2000    399.00       0  \n",
       "136   1047.48000   1780.00      6.810       61.70     4.2400   1290.00       0  \n",
       "137   1994.72000  12000.00      6.350       54.30     2.5900   7280.00       0  \n",
       "142    254.56000   3370.00     19.600       66.30     4.8800   1480.00       0  \n",
       "147    204.28200   2090.00      9.250       59.30     5.4300    702.00       0  \n",
       "149   1000.80000   1850.00     26.500       71.10     6.2300   3600.00       0  \n",
       "150    279.62400   1210.00      1.180       58.70     4.8700    488.00       0  \n",
       "155    170.17000   1540.00     10.600       56.80     6.1500    595.00       0  \n",
       "165    450.64000   4480.00     23.600       67.50     4.6700   1310.00       0  \n",
       "166    451.14000   3280.00     14.000       52.00     5.4000   1460.00       0  "
      ]
     },
     "execution_count": 37,
     "metadata": {},
     "output_type": "execute_result"
    }
   ],
   "source": [
    "c0 = df[df['labels']==0]\n",
    "c0"
   ]
  },
  {
   "cell_type": "code",
   "execution_count": 38,
   "metadata": {},
   "outputs": [
    {
     "data": {
      "text/plain": [
       "0    48\n",
       "Name: labels, dtype: int64"
      ]
     },
     "execution_count": 38,
     "metadata": {},
     "output_type": "execute_result"
    }
   ],
   "source": [
    "c0['labels'].value_counts()"
   ]
  },
  {
   "cell_type": "markdown",
   "metadata": {},
   "source": [
    "we now need to find the countries which are in dire need of aid.\n",
    "So, lets sort them in the descending order of importance."
   ]
  },
  {
   "cell_type": "code",
   "execution_count": 39,
   "metadata": {},
   "outputs": [
    {
     "data": {
      "text/html": [
       "<div>\n",
       "<style scoped>\n",
       "    .dataframe tbody tr th:only-of-type {\n",
       "        vertical-align: middle;\n",
       "    }\n",
       "\n",
       "    .dataframe tbody tr th {\n",
       "        vertical-align: top;\n",
       "    }\n",
       "\n",
       "    .dataframe thead th {\n",
       "        text-align: right;\n",
       "    }\n",
       "</style>\n",
       "<table border=\"1\" class=\"dataframe\">\n",
       "  <thead>\n",
       "    <tr style=\"text-align: right;\">\n",
       "      <th></th>\n",
       "      <th>country</th>\n",
       "      <th>child_mort</th>\n",
       "      <th>exports</th>\n",
       "      <th>health</th>\n",
       "      <th>imports</th>\n",
       "      <th>income</th>\n",
       "      <th>inflation</th>\n",
       "      <th>life_expec</th>\n",
       "      <th>total_fer</th>\n",
       "      <th>gdpp</th>\n",
       "      <th>labels</th>\n",
       "    </tr>\n",
       "  </thead>\n",
       "  <tbody>\n",
       "    <tr>\n",
       "      <th>88</th>\n",
       "      <td>Liberia</td>\n",
       "      <td>89.3</td>\n",
       "      <td>62.457000</td>\n",
       "      <td>38.586000</td>\n",
       "      <td>302.80200</td>\n",
       "      <td>742.24</td>\n",
       "      <td>5.47</td>\n",
       "      <td>60.8</td>\n",
       "      <td>5.0200</td>\n",
       "      <td>331.62</td>\n",
       "      <td>0</td>\n",
       "    </tr>\n",
       "    <tr>\n",
       "      <th>26</th>\n",
       "      <td>Burundi</td>\n",
       "      <td>93.6</td>\n",
       "      <td>22.243716</td>\n",
       "      <td>26.796000</td>\n",
       "      <td>104.90964</td>\n",
       "      <td>764.00</td>\n",
       "      <td>12.30</td>\n",
       "      <td>57.7</td>\n",
       "      <td>6.2600</td>\n",
       "      <td>331.62</td>\n",
       "      <td>0</td>\n",
       "    </tr>\n",
       "    <tr>\n",
       "      <th>37</th>\n",
       "      <td>Congo, Dem. Rep.</td>\n",
       "      <td>116.0</td>\n",
       "      <td>137.274000</td>\n",
       "      <td>26.419400</td>\n",
       "      <td>165.66400</td>\n",
       "      <td>742.24</td>\n",
       "      <td>20.80</td>\n",
       "      <td>57.5</td>\n",
       "      <td>6.5400</td>\n",
       "      <td>334.00</td>\n",
       "      <td>0</td>\n",
       "    </tr>\n",
       "    <tr>\n",
       "      <th>112</th>\n",
       "      <td>Niger</td>\n",
       "      <td>123.0</td>\n",
       "      <td>77.256000</td>\n",
       "      <td>17.956800</td>\n",
       "      <td>170.86800</td>\n",
       "      <td>814.00</td>\n",
       "      <td>2.55</td>\n",
       "      <td>58.8</td>\n",
       "      <td>6.5636</td>\n",
       "      <td>348.00</td>\n",
       "      <td>0</td>\n",
       "    </tr>\n",
       "    <tr>\n",
       "      <th>132</th>\n",
       "      <td>Sierra Leone</td>\n",
       "      <td>153.4</td>\n",
       "      <td>67.032000</td>\n",
       "      <td>52.269000</td>\n",
       "      <td>137.65500</td>\n",
       "      <td>1220.00</td>\n",
       "      <td>17.20</td>\n",
       "      <td>55.0</td>\n",
       "      <td>5.2000</td>\n",
       "      <td>399.00</td>\n",
       "      <td>0</td>\n",
       "    </tr>\n",
       "    <tr>\n",
       "      <th>93</th>\n",
       "      <td>Madagascar</td>\n",
       "      <td>62.2</td>\n",
       "      <td>103.250000</td>\n",
       "      <td>17.009362</td>\n",
       "      <td>177.59000</td>\n",
       "      <td>1390.00</td>\n",
       "      <td>8.79</td>\n",
       "      <td>60.8</td>\n",
       "      <td>4.6000</td>\n",
       "      <td>413.00</td>\n",
       "      <td>0</td>\n",
       "    </tr>\n",
       "    <tr>\n",
       "      <th>106</th>\n",
       "      <td>Mozambique</td>\n",
       "      <td>101.0</td>\n",
       "      <td>131.985000</td>\n",
       "      <td>21.829900</td>\n",
       "      <td>193.57800</td>\n",
       "      <td>918.00</td>\n",
       "      <td>7.64</td>\n",
       "      <td>54.5</td>\n",
       "      <td>5.5600</td>\n",
       "      <td>419.00</td>\n",
       "      <td>0</td>\n",
       "    </tr>\n",
       "    <tr>\n",
       "      <th>31</th>\n",
       "      <td>Central African Republic</td>\n",
       "      <td>149.0</td>\n",
       "      <td>52.628000</td>\n",
       "      <td>17.750800</td>\n",
       "      <td>118.19000</td>\n",
       "      <td>888.00</td>\n",
       "      <td>2.01</td>\n",
       "      <td>47.5</td>\n",
       "      <td>5.2100</td>\n",
       "      <td>446.00</td>\n",
       "      <td>0</td>\n",
       "    </tr>\n",
       "    <tr>\n",
       "      <th>94</th>\n",
       "      <td>Malawi</td>\n",
       "      <td>90.5</td>\n",
       "      <td>104.652000</td>\n",
       "      <td>30.248100</td>\n",
       "      <td>160.19100</td>\n",
       "      <td>1030.00</td>\n",
       "      <td>12.10</td>\n",
       "      <td>53.1</td>\n",
       "      <td>5.3100</td>\n",
       "      <td>459.00</td>\n",
       "      <td>0</td>\n",
       "    </tr>\n",
       "    <tr>\n",
       "      <th>50</th>\n",
       "      <td>Eritrea</td>\n",
       "      <td>55.2</td>\n",
       "      <td>23.087800</td>\n",
       "      <td>17.009362</td>\n",
       "      <td>112.30600</td>\n",
       "      <td>1420.00</td>\n",
       "      <td>11.60</td>\n",
       "      <td>61.7</td>\n",
       "      <td>4.6100</td>\n",
       "      <td>482.00</td>\n",
       "      <td>0</td>\n",
       "    </tr>\n",
       "  </tbody>\n",
       "</table>\n",
       "</div>"
      ],
      "text/plain": [
       "                      country  child_mort     exports     health    imports  \\\n",
       "88                    Liberia        89.3   62.457000  38.586000  302.80200   \n",
       "26                    Burundi        93.6   22.243716  26.796000  104.90964   \n",
       "37           Congo, Dem. Rep.       116.0  137.274000  26.419400  165.66400   \n",
       "112                     Niger       123.0   77.256000  17.956800  170.86800   \n",
       "132              Sierra Leone       153.4   67.032000  52.269000  137.65500   \n",
       "93                 Madagascar        62.2  103.250000  17.009362  177.59000   \n",
       "106                Mozambique       101.0  131.985000  21.829900  193.57800   \n",
       "31   Central African Republic       149.0   52.628000  17.750800  118.19000   \n",
       "94                     Malawi        90.5  104.652000  30.248100  160.19100   \n",
       "50                    Eritrea        55.2   23.087800  17.009362  112.30600   \n",
       "\n",
       "      income  inflation  life_expec  total_fer    gdpp  labels  \n",
       "88    742.24       5.47        60.8     5.0200  331.62       0  \n",
       "26    764.00      12.30        57.7     6.2600  331.62       0  \n",
       "37    742.24      20.80        57.5     6.5400  334.00       0  \n",
       "112   814.00       2.55        58.8     6.5636  348.00       0  \n",
       "132  1220.00      17.20        55.0     5.2000  399.00       0  \n",
       "93   1390.00       8.79        60.8     4.6000  413.00       0  \n",
       "106   918.00       7.64        54.5     5.5600  419.00       0  \n",
       "31    888.00       2.01        47.5     5.2100  446.00       0  \n",
       "94   1030.00      12.10        53.1     5.3100  459.00       0  \n",
       "50   1420.00      11.60        61.7     4.6100  482.00       0  "
      ]
     },
     "execution_count": 39,
     "metadata": {},
     "output_type": "execute_result"
    }
   ],
   "source": [
    "c0.sort_values(by=['gdpp', 'income', 'child_mort'], ascending= [True, True, False]).head(10)"
   ]
  },
  {
   "cell_type": "markdown",
   "metadata": {},
   "source": [
    "# Final list of Countries:\n",
    "Liberia,\n",
    "Burundi,\n",
    "Congo, DEm.Rep.,\n",
    "Niger,\n",
    "Sierra Leone"
   ]
  },
  {
   "cell_type": "markdown",
   "metadata": {},
   "source": [
    "# Hierarchial Clustering: Single linkage, Complete Linkage"
   ]
  },
  {
   "cell_type": "code",
   "execution_count": 40,
   "metadata": {},
   "outputs": [
    {
     "data": {
      "text/html": [
       "<div>\n",
       "<style scoped>\n",
       "    .dataframe tbody tr th:only-of-type {\n",
       "        vertical-align: middle;\n",
       "    }\n",
       "\n",
       "    .dataframe tbody tr th {\n",
       "        vertical-align: top;\n",
       "    }\n",
       "\n",
       "    .dataframe thead th {\n",
       "        text-align: right;\n",
       "    }\n",
       "</style>\n",
       "<table border=\"1\" class=\"dataframe\">\n",
       "  <thead>\n",
       "    <tr style=\"text-align: right;\">\n",
       "      <th></th>\n",
       "      <th>child_mort</th>\n",
       "      <th>exports</th>\n",
       "      <th>health</th>\n",
       "      <th>imports</th>\n",
       "      <th>income</th>\n",
       "      <th>inflation</th>\n",
       "      <th>life_expec</th>\n",
       "      <th>total_fer</th>\n",
       "      <th>gdpp</th>\n",
       "    </tr>\n",
       "  </thead>\n",
       "  <tbody>\n",
       "    <tr>\n",
       "      <th>0</th>\n",
       "      <td>1.344012</td>\n",
       "      <td>-0.569638</td>\n",
       "      <td>-0.566983</td>\n",
       "      <td>-0.598844</td>\n",
       "      <td>-0.851772</td>\n",
       "      <td>0.263649</td>\n",
       "      <td>-1.693799</td>\n",
       "      <td>1.926928</td>\n",
       "      <td>-0.702314</td>\n",
       "    </tr>\n",
       "    <tr>\n",
       "      <th>1</th>\n",
       "      <td>-0.547543</td>\n",
       "      <td>-0.473873</td>\n",
       "      <td>-0.440417</td>\n",
       "      <td>-0.413679</td>\n",
       "      <td>-0.387025</td>\n",
       "      <td>-0.375251</td>\n",
       "      <td>0.663053</td>\n",
       "      <td>-0.865911</td>\n",
       "      <td>-0.498775</td>\n",
       "    </tr>\n",
       "    <tr>\n",
       "      <th>2</th>\n",
       "      <td>-0.272548</td>\n",
       "      <td>-0.424015</td>\n",
       "      <td>-0.486295</td>\n",
       "      <td>-0.476198</td>\n",
       "      <td>-0.221124</td>\n",
       "      <td>1.123260</td>\n",
       "      <td>0.686504</td>\n",
       "      <td>-0.035427</td>\n",
       "      <td>-0.477483</td>\n",
       "    </tr>\n",
       "    <tr>\n",
       "      <th>3</th>\n",
       "      <td>2.084186</td>\n",
       "      <td>-0.381264</td>\n",
       "      <td>-0.534113</td>\n",
       "      <td>-0.464070</td>\n",
       "      <td>-0.612136</td>\n",
       "      <td>1.936405</td>\n",
       "      <td>-1.236499</td>\n",
       "      <td>2.154642</td>\n",
       "      <td>-0.531000</td>\n",
       "    </tr>\n",
       "    <tr>\n",
       "      <th>4</th>\n",
       "      <td>-0.709457</td>\n",
       "      <td>-0.086754</td>\n",
       "      <td>-0.178431</td>\n",
       "      <td>0.139659</td>\n",
       "      <td>0.125202</td>\n",
       "      <td>-0.768917</td>\n",
       "      <td>0.721681</td>\n",
       "      <td>-0.544433</td>\n",
       "      <td>-0.032079</td>\n",
       "    </tr>\n",
       "  </tbody>\n",
       "</table>\n",
       "</div>"
      ],
      "text/plain": [
       "   child_mort   exports    health   imports    income  inflation  life_expec  \\\n",
       "0    1.344012 -0.569638 -0.566983 -0.598844 -0.851772   0.263649   -1.693799   \n",
       "1   -0.547543 -0.473873 -0.440417 -0.413679 -0.387025  -0.375251    0.663053   \n",
       "2   -0.272548 -0.424015 -0.486295 -0.476198 -0.221124   1.123260    0.686504   \n",
       "3    2.084186 -0.381264 -0.534113 -0.464070 -0.612136   1.936405   -1.236499   \n",
       "4   -0.709457 -0.086754 -0.178431  0.139659  0.125202  -0.768917    0.721681   \n",
       "\n",
       "   total_fer      gdpp  \n",
       "0   1.926928 -0.702314  \n",
       "1  -0.865911 -0.498775  \n",
       "2  -0.035427 -0.477483  \n",
       "3   2.154642 -0.531000  \n",
       "4  -0.544433 -0.032079  "
      ]
     },
     "execution_count": 40,
     "metadata": {},
     "output_type": "execute_result"
    }
   ],
   "source": [
    "df_new.head()"
   ]
  },
  {
   "cell_type": "code",
   "execution_count": 41,
   "metadata": {},
   "outputs": [
    {
     "data": {
      "image/png": "[encoded data removed]",
      "text/plain": [
       "<Figure size 432x288 with 1 Axes>"
      ]
     },
     "metadata": {
      "needs_background": "light"
     },
     "output_type": "display_data"
    }
   ],
   "source": [
    "# single linkage\n",
    "a = linkage(df_new, method=\"single\", metric='euclidean')\n",
    "dendrogram(a)\n",
    "plt.show()"
   ]
  },
  {
   "cell_type": "markdown",
   "metadata": {},
   "source": [
    "Insights:\n",
    "From above dendogram hard to determine the value of k as data points are too close."
   ]
  },
  {
   "cell_type": "code",
   "execution_count": 42,
   "metadata": {},
   "outputs": [
    {
     "data": {
      "image/png": "[encoded data removed]",
      "text/plain": [
       "<Figure size 432x288 with 1 Axes>"
      ]
     },
     "metadata": {
      "needs_background": "light"
     },
     "output_type": "display_data"
    }
   ],
   "source": [
    "# complete linkage\n",
    "a = linkage(df_new, method=\"complete\", metric='euclidean')\n",
    "dendrogram(a)\n",
    "plt.show()"
   ]
  },
  {
   "cell_type": "markdown",
   "metadata": {},
   "source": [
    "Insights:\n",
    "Dissimilarity of clusters found at distance 8 so we will get k = 3"
   ]
  },
  {
   "cell_type": "code",
   "execution_count": 43,
   "metadata": {},
   "outputs": [
    {
     "data": {
      "text/plain": [
       "array([0, 1, 1, 0, 1, 1, 1, 2, 2, 1, 1, 1, 1, 1, 1, 2, 1, 0, 1, 1, 1, 0,\n",
       "       1, 2, 1, 0, 0, 1, 0, 2, 1, 0, 0, 1, 1, 1, 0, 0, 0, 1, 0, 1, 1, 1,\n",
       "       2, 1, 1, 1, 1, 0, 0, 1, 1, 2, 2, 0, 0, 1, 2, 0, 1, 1, 1, 0, 0, 1,\n",
       "       0, 1, 2, 1, 1, 1, 0, 2, 1, 1, 1, 1, 1, 1, 0, 0, 2, 1, 0, 1, 1, 0,\n",
       "       0, 1, 1, 2, 1, 0, 0, 1, 1, 0, 1, 0, 1, 1, 1, 0, 1, 1, 0, 1, 0, 1,\n",
       "       2, 1, 0, 0, 2, 1, 0, 1, 1, 1, 1, 1, 1, 2, 1, 1, 0, 1, 1, 0, 1, 1,\n",
       "       0, 2, 1, 1, 0, 0, 1, 1, 1, 1, 0, 1, 2, 2, 1, 0, 1, 0, 0, 1, 1, 1,\n",
       "       1, 0, 1, 2, 1, 2, 1, 1, 1, 0, 1, 0, 0])"
      ]
     },
     "execution_count": 43,
     "metadata": {},
     "output_type": "execute_result"
    }
   ],
   "source": [
    "# 3 clusters\n",
    "h_labels = cut_tree(a, n_clusters=3).reshape(-1, )\n",
    "h_labels"
   ]
  },
  {
   "cell_type": "code",
   "execution_count": 44,
   "metadata": {},
   "outputs": [
    {
     "data": {
      "text/html": [
       "<div>\n",
       "<style scoped>\n",
       "    .dataframe tbody tr th:only-of-type {\n",
       "        vertical-align: middle;\n",
       "    }\n",
       "\n",
       "    .dataframe tbody tr th {\n",
       "        vertical-align: top;\n",
       "    }\n",
       "\n",
       "    .dataframe thead th {\n",
       "        text-align: right;\n",
       "    }\n",
       "</style>\n",
       "<table border=\"1\" class=\"dataframe\">\n",
       "  <thead>\n",
       "    <tr style=\"text-align: right;\">\n",
       "      <th></th>\n",
       "      <th>country</th>\n",
       "      <th>child_mort</th>\n",
       "      <th>exports</th>\n",
       "      <th>health</th>\n",
       "      <th>imports</th>\n",
       "      <th>income</th>\n",
       "      <th>inflation</th>\n",
       "      <th>life_expec</th>\n",
       "      <th>total_fer</th>\n",
       "      <th>gdpp</th>\n",
       "      <th>labels</th>\n",
       "      <th>h_labels</th>\n",
       "    </tr>\n",
       "  </thead>\n",
       "  <tbody>\n",
       "    <tr>\n",
       "      <th>0</th>\n",
       "      <td>Afghanistan</td>\n",
       "      <td>90.2</td>\n",
       "      <td>55.30</td>\n",
       "      <td>41.9174</td>\n",
       "      <td>248.297</td>\n",
       "      <td>1610.0</td>\n",
       "      <td>9.44</td>\n",
       "      <td>56.2</td>\n",
       "      <td>5.82</td>\n",
       "      <td>553.0</td>\n",
       "      <td>0</td>\n",
       "      <td>0</td>\n",
       "    </tr>\n",
       "    <tr>\n",
       "      <th>1</th>\n",
       "      <td>Albania</td>\n",
       "      <td>16.6</td>\n",
       "      <td>1145.20</td>\n",
       "      <td>267.8950</td>\n",
       "      <td>1987.740</td>\n",
       "      <td>9930.0</td>\n",
       "      <td>4.49</td>\n",
       "      <td>76.3</td>\n",
       "      <td>1.65</td>\n",
       "      <td>4090.0</td>\n",
       "      <td>1</td>\n",
       "      <td>1</td>\n",
       "    </tr>\n",
       "    <tr>\n",
       "      <th>2</th>\n",
       "      <td>Algeria</td>\n",
       "      <td>27.3</td>\n",
       "      <td>1712.64</td>\n",
       "      <td>185.9820</td>\n",
       "      <td>1400.440</td>\n",
       "      <td>12900.0</td>\n",
       "      <td>16.10</td>\n",
       "      <td>76.5</td>\n",
       "      <td>2.89</td>\n",
       "      <td>4460.0</td>\n",
       "      <td>1</td>\n",
       "      <td>1</td>\n",
       "    </tr>\n",
       "    <tr>\n",
       "      <th>3</th>\n",
       "      <td>Angola</td>\n",
       "      <td>119.0</td>\n",
       "      <td>2199.19</td>\n",
       "      <td>100.6050</td>\n",
       "      <td>1514.370</td>\n",
       "      <td>5900.0</td>\n",
       "      <td>22.40</td>\n",
       "      <td>60.1</td>\n",
       "      <td>6.16</td>\n",
       "      <td>3530.0</td>\n",
       "      <td>0</td>\n",
       "      <td>0</td>\n",
       "    </tr>\n",
       "    <tr>\n",
       "      <th>4</th>\n",
       "      <td>Antigua and Barbuda</td>\n",
       "      <td>10.3</td>\n",
       "      <td>5551.00</td>\n",
       "      <td>735.6600</td>\n",
       "      <td>7185.800</td>\n",
       "      <td>19100.0</td>\n",
       "      <td>1.44</td>\n",
       "      <td>76.8</td>\n",
       "      <td>2.13</td>\n",
       "      <td>12200.0</td>\n",
       "      <td>1</td>\n",
       "      <td>1</td>\n",
       "    </tr>\n",
       "  </tbody>\n",
       "</table>\n",
       "</div>"
      ],
      "text/plain": [
       "               country  child_mort  exports    health   imports   income  \\\n",
       "0          Afghanistan        90.2    55.30   41.9174   248.297   1610.0   \n",
       "1              Albania        16.6  1145.20  267.8950  1987.740   9930.0   \n",
       "2              Algeria        27.3  1712.64  185.9820  1400.440  12900.0   \n",
       "3               Angola       119.0  2199.19  100.6050  1514.370   5900.0   \n",
       "4  Antigua and Barbuda        10.3  5551.00  735.6600  7185.800  19100.0   \n",
       "\n",
       "   inflation  life_expec  total_fer     gdpp  labels  h_labels  \n",
       "0       9.44        56.2       5.82    553.0       0         0  \n",
       "1       4.49        76.3       1.65   4090.0       1         1  \n",
       "2      16.10        76.5       2.89   4460.0       1         1  \n",
       "3      22.40        60.1       6.16   3530.0       0         0  \n",
       "4       1.44        76.8       2.13  12200.0       1         1  "
      ]
     },
     "execution_count": 44,
     "metadata": {},
     "output_type": "execute_result"
    }
   ],
   "source": [
    "# Assigning  cluster labels\n",
    "df['h_labels'] = h_labels\n",
    "df.head()"
   ]
  },
  {
   "cell_type": "code",
   "execution_count": 45,
   "metadata": {},
   "outputs": [
    {
     "data": {
      "text/plain": [
       "<matplotlib.axes._subplots.AxesSubplot at 0xae7d95dd48>"
      ]
     },
     "execution_count": 45,
     "metadata": {},
     "output_type": "execute_result"
    },
    {
     "data": {
      "image/png": "[encoded data removed]",
      "text/plain": [
       "<Figure size 432x288 with 1 Axes>"
      ]
     },
     "metadata": {
      "needs_background": "light"
     },
     "output_type": "display_data"
    }
   ],
   "source": [
    "sns.boxplot(x='h_labels', y='income', data=df)"
   ]
  },
  {
   "cell_type": "code",
   "execution_count": 46,
   "metadata": {},
   "outputs": [
    {
     "data": {
      "text/plain": [
       "<matplotlib.axes._subplots.AxesSubplot at 0xae7d9f9bc8>"
      ]
     },
     "execution_count": 46,
     "metadata": {},
     "output_type": "execute_result"
    },
    {
     "data": {
      "image/png": "[encoded data removed]",
      "text/plain": [
       "<Figure size 432x288 with 1 Axes>"
      ]
     },
     "metadata": {
      "needs_background": "light"
     },
     "output_type": "display_data"
    }
   ],
   "source": [
    "sns.boxplot(x='h_labels', y='gdpp', data=df)"
   ]
  },
  {
   "cell_type": "code",
   "execution_count": 47,
   "metadata": {},
   "outputs": [
    {
     "data": {
      "text/plain": [
       "<matplotlib.axes._subplots.AxesSubplot at 0xae7da94248>"
      ]
     },
     "execution_count": 47,
     "metadata": {},
     "output_type": "execute_result"
    },
    {
     "data": {
      "image/png": "[encoded data removed]",
      "text/plain": [
       "<Figure size 432x288 with 1 Axes>"
      ]
     },
     "metadata": {
      "needs_background": "light"
     },
     "output_type": "display_data"
    }
   ],
   "source": [
    "sns.boxplot(x='h_labels', y='child_mort', data=df)"
   ]
  },
  {
   "cell_type": "markdown",
   "metadata": {},
   "source": [
    "Insights:\n",
    "We can notice 3 clusters with different characterstics and cluster 0 has low gdpp, low income and high child mortality"
   ]
  },
  {
   "cell_type": "code",
   "execution_count": 48,
   "metadata": {},
   "outputs": [
    {
     "data": {
      "text/html": [
       "<div>\n",
       "<style scoped>\n",
       "    .dataframe tbody tr th:only-of-type {\n",
       "        vertical-align: middle;\n",
       "    }\n",
       "\n",
       "    .dataframe tbody tr th {\n",
       "        vertical-align: top;\n",
       "    }\n",
       "\n",
       "    .dataframe thead th {\n",
       "        text-align: right;\n",
       "    }\n",
       "</style>\n",
       "<table border=\"1\" class=\"dataframe\">\n",
       "  <thead>\n",
       "    <tr style=\"text-align: right;\">\n",
       "      <th></th>\n",
       "      <th>country</th>\n",
       "      <th>child_mort</th>\n",
       "      <th>exports</th>\n",
       "      <th>health</th>\n",
       "      <th>imports</th>\n",
       "      <th>income</th>\n",
       "      <th>inflation</th>\n",
       "      <th>life_expec</th>\n",
       "      <th>total_fer</th>\n",
       "      <th>gdpp</th>\n",
       "      <th>labels</th>\n",
       "      <th>h_labels</th>\n",
       "    </tr>\n",
       "  </thead>\n",
       "  <tbody>\n",
       "    <tr>\n",
       "      <th>88</th>\n",
       "      <td>Liberia</td>\n",
       "      <td>89.3</td>\n",
       "      <td>62.457000</td>\n",
       "      <td>38.586000</td>\n",
       "      <td>302.80200</td>\n",
       "      <td>742.24</td>\n",
       "      <td>5.47</td>\n",
       "      <td>60.8</td>\n",
       "      <td>5.0200</td>\n",
       "      <td>331.62</td>\n",
       "      <td>0</td>\n",
       "      <td>0</td>\n",
       "    </tr>\n",
       "    <tr>\n",
       "      <th>26</th>\n",
       "      <td>Burundi</td>\n",
       "      <td>93.6</td>\n",
       "      <td>22.243716</td>\n",
       "      <td>26.796000</td>\n",
       "      <td>104.90964</td>\n",
       "      <td>764.00</td>\n",
       "      <td>12.30</td>\n",
       "      <td>57.7</td>\n",
       "      <td>6.2600</td>\n",
       "      <td>331.62</td>\n",
       "      <td>0</td>\n",
       "      <td>0</td>\n",
       "    </tr>\n",
       "    <tr>\n",
       "      <th>37</th>\n",
       "      <td>Congo, Dem. Rep.</td>\n",
       "      <td>116.0</td>\n",
       "      <td>137.274000</td>\n",
       "      <td>26.419400</td>\n",
       "      <td>165.66400</td>\n",
       "      <td>742.24</td>\n",
       "      <td>20.80</td>\n",
       "      <td>57.5</td>\n",
       "      <td>6.5400</td>\n",
       "      <td>334.00</td>\n",
       "      <td>0</td>\n",
       "      <td>0</td>\n",
       "    </tr>\n",
       "    <tr>\n",
       "      <th>112</th>\n",
       "      <td>Niger</td>\n",
       "      <td>123.0</td>\n",
       "      <td>77.256000</td>\n",
       "      <td>17.956800</td>\n",
       "      <td>170.86800</td>\n",
       "      <td>814.00</td>\n",
       "      <td>2.55</td>\n",
       "      <td>58.8</td>\n",
       "      <td>6.5636</td>\n",
       "      <td>348.00</td>\n",
       "      <td>0</td>\n",
       "      <td>0</td>\n",
       "    </tr>\n",
       "    <tr>\n",
       "      <th>132</th>\n",
       "      <td>Sierra Leone</td>\n",
       "      <td>153.4</td>\n",
       "      <td>67.032000</td>\n",
       "      <td>52.269000</td>\n",
       "      <td>137.65500</td>\n",
       "      <td>1220.00</td>\n",
       "      <td>17.20</td>\n",
       "      <td>55.0</td>\n",
       "      <td>5.2000</td>\n",
       "      <td>399.00</td>\n",
       "      <td>0</td>\n",
       "      <td>0</td>\n",
       "    </tr>\n",
       "    <tr>\n",
       "      <th>93</th>\n",
       "      <td>Madagascar</td>\n",
       "      <td>62.2</td>\n",
       "      <td>103.250000</td>\n",
       "      <td>17.009362</td>\n",
       "      <td>177.59000</td>\n",
       "      <td>1390.00</td>\n",
       "      <td>8.79</td>\n",
       "      <td>60.8</td>\n",
       "      <td>4.6000</td>\n",
       "      <td>413.00</td>\n",
       "      <td>0</td>\n",
       "      <td>0</td>\n",
       "    </tr>\n",
       "    <tr>\n",
       "      <th>106</th>\n",
       "      <td>Mozambique</td>\n",
       "      <td>101.0</td>\n",
       "      <td>131.985000</td>\n",
       "      <td>21.829900</td>\n",
       "      <td>193.57800</td>\n",
       "      <td>918.00</td>\n",
       "      <td>7.64</td>\n",
       "      <td>54.5</td>\n",
       "      <td>5.5600</td>\n",
       "      <td>419.00</td>\n",
       "      <td>0</td>\n",
       "      <td>0</td>\n",
       "    </tr>\n",
       "    <tr>\n",
       "      <th>31</th>\n",
       "      <td>Central African Republic</td>\n",
       "      <td>149.0</td>\n",
       "      <td>52.628000</td>\n",
       "      <td>17.750800</td>\n",
       "      <td>118.19000</td>\n",
       "      <td>888.00</td>\n",
       "      <td>2.01</td>\n",
       "      <td>47.5</td>\n",
       "      <td>5.2100</td>\n",
       "      <td>446.00</td>\n",
       "      <td>0</td>\n",
       "      <td>0</td>\n",
       "    </tr>\n",
       "    <tr>\n",
       "      <th>94</th>\n",
       "      <td>Malawi</td>\n",
       "      <td>90.5</td>\n",
       "      <td>104.652000</td>\n",
       "      <td>30.248100</td>\n",
       "      <td>160.19100</td>\n",
       "      <td>1030.00</td>\n",
       "      <td>12.10</td>\n",
       "      <td>53.1</td>\n",
       "      <td>5.3100</td>\n",
       "      <td>459.00</td>\n",
       "      <td>0</td>\n",
       "      <td>0</td>\n",
       "    </tr>\n",
       "    <tr>\n",
       "      <th>50</th>\n",
       "      <td>Eritrea</td>\n",
       "      <td>55.2</td>\n",
       "      <td>23.087800</td>\n",
       "      <td>17.009362</td>\n",
       "      <td>112.30600</td>\n",
       "      <td>1420.00</td>\n",
       "      <td>11.60</td>\n",
       "      <td>61.7</td>\n",
       "      <td>4.6100</td>\n",
       "      <td>482.00</td>\n",
       "      <td>0</td>\n",
       "      <td>0</td>\n",
       "    </tr>\n",
       "  </tbody>\n",
       "</table>\n",
       "</div>"
      ],
      "text/plain": [
       "                      country  child_mort     exports     health    imports  \\\n",
       "88                    Liberia        89.3   62.457000  38.586000  302.80200   \n",
       "26                    Burundi        93.6   22.243716  26.796000  104.90964   \n",
       "37           Congo, Dem. Rep.       116.0  137.274000  26.419400  165.66400   \n",
       "112                     Niger       123.0   77.256000  17.956800  170.86800   \n",
       "132              Sierra Leone       153.4   67.032000  52.269000  137.65500   \n",
       "93                 Madagascar        62.2  103.250000  17.009362  177.59000   \n",
       "106                Mozambique       101.0  131.985000  21.829900  193.57800   \n",
       "31   Central African Republic       149.0   52.628000  17.750800  118.19000   \n",
       "94                     Malawi        90.5  104.652000  30.248100  160.19100   \n",
       "50                    Eritrea        55.2   23.087800  17.009362  112.30600   \n",
       "\n",
       "      income  inflation  life_expec  total_fer    gdpp  labels  h_labels  \n",
       "88    742.24       5.47        60.8     5.0200  331.62       0         0  \n",
       "26    764.00      12.30        57.7     6.2600  331.62       0         0  \n",
       "37    742.24      20.80        57.5     6.5400  334.00       0         0  \n",
       "112   814.00       2.55        58.8     6.5636  348.00       0         0  \n",
       "132  1220.00      17.20        55.0     5.2000  399.00       0         0  \n",
       "93   1390.00       8.79        60.8     4.6000  413.00       0         0  \n",
       "106   918.00       7.64        54.5     5.5600  419.00       0         0  \n",
       "31    888.00       2.01        47.5     5.2100  446.00       0         0  \n",
       "94   1030.00      12.10        53.1     5.3100  459.00       0         0  \n",
       "50   1420.00      11.60        61.7     4.6100  482.00       0         0  "
      ]
     },
     "execution_count": 48,
     "metadata": {},
     "output_type": "execute_result"
    }
   ],
   "source": [
    "c0 = df[df['h_labels']==0]\n",
    "c0.sort_values(by=['gdpp', 'income', 'child_mort'], ascending= [True, True, False]).head(10)"
   ]
  },
  {
   "cell_type": "markdown",
   "metadata": {},
   "source": [
    "# Final list of Countries:\n",
    "    \n",
    "1. Liberia\n",
    "2. Burundi\n",
    "3. Congo, DEm.Rep.\n",
    "4. Niger \n",
    "5. Sierra Leone"
   ]
  },
  {
   "cell_type": "code",
   "execution_count": null,
   "metadata": {},
   "outputs": [],
   "source": []
  }
 ],
 "metadata": {
  "kernelspec": {
   "display_name": "Python 3",
   "language": "python",
   "name": "python3"
  },
  "language_info": {
   "codemirror_mode": {
    "name": "ipython",
    "version": 3
   },
   "file_extension": ".py",
   "mimetype": "text/x-python",
   "name": "python",
   "nbconvert_exporter": "python",
   "pygments_lexer": "ipython3",
   "version": "3.7.6"
  }
 },
 "nbformat": 4,
 "nbformat_minor": 4
}
